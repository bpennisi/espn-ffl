{
 "cells": [
  {
   "cell_type": "code",
   "execution_count": 1,
   "metadata": {},
   "outputs": [],
   "source": [
    "from espn_api.football import League"
   ]
  },
  {
   "cell_type": "code",
   "execution_count": 2,
   "metadata": {},
   "outputs": [],
   "source": [
    "# league is PPR league to projections data are PPR\n",
    "with open ('config', 'r') as f:\n",
    "    config = [str(x.split(',')[1].replace('\\n', '')) for x in f.readlines()]\n",
    "        \n",
    "LID = int(config[0])\n",
    "year = 2021\n",
    "week = 15\n",
    "league = League(league_id=LID, \n",
    "                year=year, \n",
    "                espn_s2=config[1],\n",
    "                swid=config[2])"
   ]
  },
  {
   "cell_type": "markdown",
   "metadata": {},
   "source": [
    "`get_all_box_players` is a custom method added to `espn_api.football.League` class designed to query for all players, not just free agents."
   ]
  },
  {
   "cell_type": "code",
   "execution_count": null,
   "metadata": {
    "scrolled": true
   },
   "outputs": [],
   "source": [
    "fetch = [('QB', 50), ('RB', 100), ('WR', 150), ('TE', 30), ('D/ST', 32), ('K', 40)]\n",
    "recs = []\n",
    "for wk in range(1, week+1):\n",
    "    for f in fetch:\n",
    "        box_players = league.get_all_box_players(week=wk, position=f[0], size=f[1])\n",
    "        for p in box_players:\n",
    "            rec = {}\n",
    "            rec['name'] = p.name\n",
    "            rec['points'] = p.points\n",
    "            rec['projected'] = p.projected_points\n",
    "            rec['position'] = f[0]\n",
    "            rec['week'] = wk\n",
    "            recs.append(rec)\n",
    "    print('week {} is done'.format(str(wk)))"
   ]
  },
  {
   "cell_type": "code",
   "execution_count": 42,
   "metadata": {},
   "outputs": [],
   "source": [
    "import json\n",
    "\n",
    "scoring_fmt = 'hppr'\n",
    "if LID == 1128527:\n",
    "    scoring_fmt = 'ppr'\n",
    "\n",
    "with open(r'data/projections_{}_thru_wk_{}_{}.json'.format(year, week, scoring_fmt), 'w') as f:\n",
    "    json.dump(recs, f)"
   ]
  }
 ],
 "metadata": {
  "kernelspec": {
   "display_name": "Python 3",
   "language": "python",
   "name": "python3"
  },
  "language_info": {
   "codemirror_mode": {
    "name": "ipython",
    "version": 3
   },
   "file_extension": ".py",
   "mimetype": "text/x-python",
   "name": "python",
   "nbconvert_exporter": "python",
   "pygments_lexer": "ipython3",
   "version": "3.7.5"
  }
 },
 "nbformat": 4,
 "nbformat_minor": 4
}
