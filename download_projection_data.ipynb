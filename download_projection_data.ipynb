{
 "cells": [
  {
   "cell_type": "code",
   "execution_count": 1,
   "metadata": {},
   "outputs": [],
   "source": [
    "from espn_api.football import League"
   ]
  },
  {
   "cell_type": "code",
   "execution_count": 2,
   "metadata": {},
   "outputs": [],
   "source": [
    "# league is PPR league to projections data are PPR\n",
    "LID = 1128527\n",
    "year = 2019\n",
    "week = 16\n",
    "league = League(league_id=LID, \n",
    "                year=year, \n",
    "                espn_s2='AEB5Du%2B%2BnNRGhi5vW2JH%2FHerG7EII%2BrtMFytPy8RqBg5nucEX2MIm%2F27JLBiWaycfFwn36QG%2Bp7CKXORms6GXrUissS1lu%2Fi9hNIt6LAuVwk3eOS34SGT9rG2aPmLKTQagToUHv6m0pmM4GdthfyMCqsLFFYzuFOHNeBJBuy1bkdbFAp9G5O0g43FMreoEBPfxs%2BINHk0esR2Z6QuSXKT36MRB%2F8TWxY9uBCONstcTMzfCW1wVywDXsKnTKoBV8zT%2FvAAb0nh9YcVyJbjjP1cQ78',\n",
    "                swid='{DB896161-AABB-4102-A486-6C90010B7855}')"
   ]
  },
  {
   "cell_type": "markdown",
   "metadata": {},
   "source": [
    "`get_all_box_players` is a custom method added to `espn_api.football.League` class designed to query for all players, not just free agents."
   ]
  },
  {
   "cell_type": "code",
   "execution_count": null,
   "metadata": {
    "scrolled": true
   },
   "outputs": [],
   "source": [
    "fetch = [('QB', 50), ('RB', 100), ('WR', 150), ('TE', 30), ('D/ST', 32), ('K', 40)]\n",
    "recs = []\n",
    "for wk in range(1, week+1):\n",
    "    for f in fetch:\n",
    "        box_players = league.get_all_box_players(week=wk, position=f[0], size=f[1])\n",
    "        for p in box_players:\n",
    "            rec = {}\n",
    "            rec['name'] = p.name\n",
    "            rec['points'] = p.points\n",
    "            rec['projected'] = p.projected_points\n",
    "            rec['position'] = f[0]\n",
    "            rec['week'] = wk\n",
    "            recs.append(rec)\n",
    "    print('week {} is done'.format(str(wk)))"
   ]
  },
  {
   "cell_type": "code",
   "execution_count": 42,
   "metadata": {},
   "outputs": [],
   "source": [
    "import json\n",
    "\n",
    "scoring_fmt = 'hppr'\n",
    "if LID == 1128527:\n",
    "    scoring_fmt = 'ppr'\n",
    "\n",
    "with open(r'data/projections_{}_thru_wk_{}_{}.json'.format(year, week, scoring_fmt), 'w') as f:\n",
    "    json.dump(recs, f)"
   ]
  }
 ],
 "metadata": {
  "kernelspec": {
   "display_name": "Python 3",
   "language": "python",
   "name": "python3"
  },
  "language_info": {
   "codemirror_mode": {
    "name": "ipython",
    "version": 3
   },
   "file_extension": ".py",
   "mimetype": "text/x-python",
   "name": "python",
   "nbconvert_exporter": "python",
   "pygments_lexer": "ipython3",
   "version": "3.7.5"
  }
 },
 "nbformat": 4,
 "nbformat_minor": 4
}
