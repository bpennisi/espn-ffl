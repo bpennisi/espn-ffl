{
 "cells": [
  {
   "cell_type": "markdown",
   "metadata": {},
   "source": [
    "# Part 3: Projections for Start/Sit Decisions \n",
    "\n",
    "To assess whether projections can be used in start/sit decisions, I will test whether we perform better than an n-sided coin flip when we choose the highest projected player from a list of 2, 3, and 4 players to start at the flex position. \n",
    "\n",
    "A reasonable heuristic to determine whether a start/sit decision is non-trivial based on their projections is when players are projected to score within 3 points of each other. That is, the difference between the highest and lower projected player is 3. Based on our analysis around the precision of projections, we know ESPN projection are only accurate within +/- 3 points 31% of the time. \n",
    "\n",
    "As shown below, our combinations generate up to tens of millions of comparisons so we will need to carefully optimizing for performance.\n",
    "\n",
    "Ultimately we conclude that projections create between a 5 and 6% edge versus random."
   ]
  },
  {
   "cell_type": "markdown",
   "metadata": {},
   "source": [
    "### generate flex players"
   ]
  },
  {
   "cell_type": "code",
   "execution_count": 2,
   "metadata": {},
   "outputs": [],
   "source": [
    "import json\n",
    "import pandas as pd\n",
    "import matplotlib.pyplot as plt\n",
    "import numpy as np\n",
    "from itertools import combinations\n",
    "\n",
    "with open(r'data/projections_2020_thru_wk_14_ppr.json', 'r') as f:\n",
    "    jsons = json.load(f)"
   ]
  },
  {
   "cell_type": "code",
   "execution_count": 3,
   "metadata": {},
   "outputs": [
    {
     "data": {
      "text/plain": [
       "(5628, 5)"
      ]
     },
     "execution_count": 3,
     "metadata": {},
     "output_type": "execute_result"
    }
   ],
   "source": [
    "recs = pd.DataFrame(jsons)\n",
    "recs.shape"
   ]
  },
  {
   "cell_type": "code",
   "execution_count": 4,
   "metadata": {},
   "outputs": [
    {
     "name": "stdout",
     "output_type": "stream",
     "text": [
      "Approximate number of players per week for QB: 29, min: 27\n",
      "Approximate number of players per week for RB: 54, min: 48\n",
      "Approximate number of players per week for WR: 63, min: 58\n",
      "Approximate number of players per week for TE: 21, min: 17\n"
     ]
    },
    {
     "data": {
      "text/plain": [
       "2360"
      ]
     },
     "execution_count": 4,
     "metadata": {},
     "output_type": "execute_result"
    }
   ],
   "source": [
    "idxs = []\n",
    "for k, v in [('QB', 10), ('RB', 5), ('WR', 8), ('TE', 5)]:\n",
    "    hold = recs.loc[(recs['position'] == k) & (recs['projected'] >= v)]\n",
    "    print('Approximate number of players per week for {}: {}, min: {}'.format(k, int(hold.groupby(by='week')['projected'].count().mean()), hold.groupby(by='week')['projected'].count().min()))\n",
    "    idxs = idxs + list(hold.index.values)\n",
    "len(idxs)"
   ]
  },
  {
   "cell_type": "code",
   "execution_count": 5,
   "metadata": {},
   "outputs": [
    {
     "name": "stdout",
     "output_type": "stream",
     "text": [
      "(2360, 5)\n"
     ]
    }
   ],
   "source": [
    "recs = recs.iloc[idxs]\n",
    "print(recs.shape)\n",
    "recs['prmp'] = recs['projected'] - recs['points']\n",
    "flex = recs.loc[recs['position'].isin(['RB', 'WR', 'TE'])].copy()"
   ]
  },
  {
   "cell_type": "markdown",
   "metadata": {},
   "source": [
    "### optimizing performance: part 1, combinations function\n",
    "We are iterating through each player/week combination and, depending on the projection window size, computing combinations of up to n=100 choose k=4. We also need to store each unique combination to ensure we are not checking it twice based on the algorithm we've chosen. This results in # players * # weeks * n choose k time complexity. This could become intractable very quickly so we may need to do random samples instead. Let's investigate that further. "
   ]
  },
  {
   "cell_type": "code",
   "execution_count": 6,
   "metadata": {},
   "outputs": [
    {
     "name": "stdout",
     "output_type": "stream",
     "text": [
      "641 ns ± 68.4 ns per loop (mean ± std. dev. of 7 runs, 1000000 loops each)\n"
     ]
    }
   ],
   "source": [
    "%timeit list(combinations([1,2,3, 4], r=3))"
   ]
  },
  {
   "cell_type": "code",
   "execution_count": 7,
   "metadata": {},
   "outputs": [
    {
     "name": "stdout",
     "output_type": "stream",
     "text": [
      "1.35 ms ± 113 µs per loop (mean ± std. dev. of 7 runs, 1000 loops each)\n"
     ]
    }
   ],
   "source": [
    "%timeit list(combinations(range(50), r=3))"
   ]
  },
  {
   "cell_type": "code",
   "execution_count": 8,
   "metadata": {},
   "outputs": [],
   "source": [
    "# this took around 22 seconds and froze my compute so avoiding re-running this\n",
    "#%timeit list(combinations(range(500), r=3))"
   ]
  },
  {
   "cell_type": "code",
   "execution_count": 9,
   "metadata": {
    "scrolled": false
   },
   "outputs": [
    {
     "data": {
      "image/png": "[encoded data removed]",
      "text/plain": [
       "<Figure size 432x288 with 1 Axes>"
      ]
     },
     "metadata": {
      "needs_background": "light"
     },
     "output_type": "display_data"
    }
   ],
   "source": [
    "pw = 15\n",
    "pw_size = 3\n",
    "win_size = []\n",
    "for wk in range(1, recs.week.max()+1):\n",
    "    for pw in np.arange(5, 26, 1):\n",
    "        win_size.append(len(flex.loc[(flex['week'] == wk) & (flex['projected'] >= pw) & (flex['projected'] < pw + pw_size)]))\n",
    "\n",
    "plt.title('Combination n values distribution\\nmax {}\\n mean {}\\n n {}'.format(max(win_size), np.round(sum(win_size)/len(win_size), 3), len(win_size)))\n",
    "plt.hist(win_size, bins='auto')\n",
    "plt.show()"
   ]
  },
  {
   "cell_type": "markdown",
   "metadata": {},
   "source": [
    "Let's analyze the cost of computing these combinations using the maximum window size of 4. "
   ]
  },
  {
   "cell_type": "code",
   "execution_count": 10,
   "metadata": {},
   "outputs": [
    {
     "name": "stdout",
     "output_type": "stream",
     "text": [
      "224 µs ± 12.8 µs per loop (mean ± std. dev. of 7 runs, 10000 loops each)\n"
     ]
    }
   ],
   "source": [
    "win_pl = 4\n",
    "%timeit list(combinations(range(19), r=win_pl))"
   ]
  },
  {
   "cell_type": "code",
   "execution_count": 11,
   "metadata": {},
   "outputs": [
    {
     "name": "stdout",
     "output_type": "stream",
     "text": [
      "50 ms ± 6.66 ms per loop (mean ± std. dev. of 7 runs, 10 loops each)\n"
     ]
    }
   ],
   "source": [
    "%timeit list(combinations(range(59), r=win_pl))"
   ]
  },
  {
   "cell_type": "code",
   "execution_count": 12,
   "metadata": {},
   "outputs": [
    {
     "data": {
      "text/plain": [
       "11.848199999999999"
      ]
     },
     "execution_count": 12,
     "metadata": {},
     "output_type": "execute_result"
    }
   ],
   "source": [
    "# 40.3 ms, output above for 59 choose 4 may vary\n",
    "294*40.3/1000"
   ]
  },
  {
   "cell_type": "markdown",
   "metadata": {},
   "source": [
    "Looks like we should be OK. Even if every window was the max, it'd take us less than a second. We will also want to check the list for every combination. How big is that list?"
   ]
  },
  {
   "cell_type": "code",
   "execution_count": 13,
   "metadata": {},
   "outputs": [
    {
     "data": {
      "text/plain": [
       "455126"
      ]
     },
     "execution_count": 13,
     "metadata": {},
     "output_type": "execute_result"
    }
   ],
   "source": [
    "max_combos = set(combinations(range(59), r=win_pl))\n",
    "len(max_combos)"
   ]
  },
  {
   "cell_type": "markdown",
   "metadata": {},
   "source": [
    "We will use hashing for these checks which is included in the Python's implementation of `set`. "
   ]
  },
  {
   "cell_type": "markdown",
   "metadata": {},
   "source": [
    "### optimizing performance: part 2, combination loop\n",
    "these combinations are computed up to 10s of millions of times so we need to be very careful what operations we include. unfortunately pandas `.loc` function is over 10x slower than our `numpy` function and 1000x slower than our built-in operations"
   ]
  },
  {
   "cell_type": "code",
   "execution_count": 21,
   "metadata": {},
   "outputs": [],
   "source": [
    "def check_wins(pw, size):\n",
    "    \"\"\"Generate a list of lower and upper bounds corresponding to all windows +/- size. \n",
    "    For example, pw=8 & size=3 generates [5, 8] ... [8, 11].\"\"\"\n",
    "    lb = pw - size\n",
    "    ub = pw\n",
    "    for x in np.arange(size+1):\n",
    "        yield tuple([lb+x, ub+x])"
   ]
  },
  {
   "cell_type": "code",
   "execution_count": 22,
   "metadata": {},
   "outputs": [],
   "source": [
    "def check_top_projection_fast(X, proj=0, pt=1):\n",
    "    \"\"\"Check whether the top projected player scored the most points. Return nan if there are two or more top \n",
    "    projected players.\"\"\"\n",
    "    X = X[X[:,proj].argsort()]\n",
    "    if X[-1, proj] == X[-2, proj]:\n",
    "        return np.nan\n",
    "    return np.max(X[:, pt]) == X[np.argmax(X[:, proj]), pt]"
   ]
  },
  {
   "cell_type": "code",
   "execution_count": 23,
   "metadata": {},
   "outputs": [],
   "source": [
    "from numpy.random import default_rng\n",
    "def sample_arr(X, pct, seed=69):\n",
    "    \"\"\"Randomly sample pct records without replacements from an array.\"\"\"\n",
    "    if pct != 1:\n",
    "        rng = default_rng(seed=seed)\n",
    "        return rng.choice(X, replace=False, size=int(len(X)*pct)+1)\n",
    "    else:\n",
    "        return X"
   ]
  },
  {
   "cell_type": "code",
   "execution_count": 24,
   "metadata": {},
   "outputs": [
    {
     "name": "stdout",
     "output_type": "stream",
     "text": [
      "2.13 µs ± 99.2 ns per loop (mean ± std. dev. of 7 runs, 100000 loops each)\n"
     ]
    }
   ],
   "source": [
    "test = np.array([1,2,3])\n",
    "%timeit sorted(list(test) + [3])"
   ]
  },
  {
   "cell_type": "code",
   "execution_count": 25,
   "metadata": {},
   "outputs": [
    {
     "name": "stdout",
     "output_type": "stream",
     "text": [
      "300 ns ± 5.98 ns per loop (mean ± std. dev. of 7 runs, 1000000 loops each)\n"
     ]
    }
   ],
   "source": [
    "checked = {tuple(range(x, x+3) for x in range(int(1e6)))}\n",
    "c = [1,2,3,4]\n",
    "%timeit tuple(c); tuple([1,2,3]) in checked"
   ]
  },
  {
   "cell_type": "code",
   "execution_count": 26,
   "metadata": {},
   "outputs": [
    {
     "name": "stdout",
     "output_type": "stream",
     "text": [
      "433 µs ± 15 µs per loop (mean ± std. dev. of 7 runs, 1000 loops each)\n"
     ]
    }
   ],
   "source": [
    "c = [93, 100, 192, 229]\n",
    "wk_df = flex.loc[flex['week'] == 1].copy()\n",
    "%timeit wk_df.loc[c]"
   ]
  },
  {
   "cell_type": "code",
   "execution_count": 27,
   "metadata": {},
   "outputs": [
    {
     "name": "stdout",
     "output_type": "stream",
     "text": [
      "34.2 µs ± 809 ns per loop (mean ± std. dev. of 7 runs, 10000 loops each)\n"
     ]
    }
   ],
   "source": [
    "%timeit check_top_projection_fast(np.array([[6,7], [7,8], [8,9], [9, 10]]))"
   ]
  },
  {
   "cell_type": "markdown",
   "metadata": {},
   "source": [
    "### run the analysis via `run_test`"
   ]
  },
  {
   "cell_type": "markdown",
   "metadata": {},
   "source": [
    "`run_test` Performance notes: \n",
    "- len(data), win_pj, and win_pl all determine the number of combinations we use\n",
    "    - based on a 3 point window comparing 4 players, we compute n choose k on a max of n=59 for a given week which produces about half a million combinations *(see analysis on optimizing cost for combinations)*\n",
    "- as such, all functions computed in the inner-most loop should be carefully assess for performance\n",
    "    - pandas.loc method is 10x slower than any other operation *(see analysis on optimizing cost for combiation loop)*"
   ]
  },
  {
   "cell_type": "code",
   "execution_count": 28,
   "metadata": {},
   "outputs": [],
   "source": [
    "def run_test(data, win_pj, win_pl, pct=0.01, seed=69, log=False):\n",
    "    \"\"\"Run test to count the number of times the top player of win_pl scores the most points checking against\n",
    "    all players who are projected within win_pj points of one another.\n",
    "    \n",
    "    Args:\n",
    "        data (pandas.core.frame.DataFrame): input dataframe containing player-week projected and actual data\n",
    "            required columns are ['name' (str), 'week' (int), 'points' (float), 'projected' (float)]\n",
    "        win_pj (int): max distance between highest and lowest projection\n",
    "        win_pl (int): number of players to compare. Greater than 3, you should sample < 1% to ensure it doesn't take more than \n",
    "            too long to run.\n",
    "        pct (float): value on (0, 1]. At pct=1, we will not use sampling. This is probably OK where win_pl in int[2, 3].\n",
    "        log (bool): whether to print progress\n",
    "\n",
    "    Returns:\n",
    "        checked (set[tuple]): sorted permutations (combinations) that have already been checked. we need to sort them \n",
    "            since we exclude 1 of the n players from the combinations function.\n",
    "        results (dict{'res':bool, 'players':list, 'values':np.ndarray, 'week':int}): returns data collected from \n",
    "            experiment including whether the top projected player was the top scorer, the df index values of the\n",
    "            player-week record, the values compared, and the week of the data\n",
    "        i (int): returns the number of times a combination was already checked\n",
    "        \n",
    "    Performance notes: \n",
    "        - len(data), win_pj, and win_pl all determine the number of combinations we use\n",
    "            - based on a 3 point window comparing 4 players, we compute n choose k on a max of n=59 for a given week\n",
    "            which produces about half a million combinations\n",
    "        - as such, all functions computed in the inner-most loop should be carefully assess for performance\n",
    "          - pandas.loc method is 10x slower than any other operation\n",
    "    \"\"\"\n",
    "\n",
    "    checked = set()\n",
    "    results = []\n",
    "    bad_results = []\n",
    "    i = 0\n",
    "\n",
    "    for wk in range(1, data.week.max()+1):\n",
    "        wk_df = data.loc[data['week'] == wk].copy()\n",
    "        for nm in wk_df.name.sort_values():\n",
    "            plyr = data.loc[(data['name'] == nm) & (data['week'] == wk)].reset_index().to_dict(orient='records')[0]\n",
    "            for l, u in check_wins(plyr['projected'], win_pj):\n",
    "                combos = data.loc[(data['name'] != nm) & (data['week'] == wk) & (data['projected'] >= l) & (data['projected'] < u)]\n",
    "                if len(combos) >= win_pl-1:\n",
    "                    for c in sample_arr(list(combinations(combos.index.values, r=win_pl-1)), pct, seed=seed):  # sample all possible combinations\n",
    "                        c = sorted(list(c) + [plyr['index']])  # since we exclude plyr_idx from combinations, this isn't always sorted\n",
    "                        c_tup = tuple(c)\n",
    "                        if c_tup not in checked:\n",
    "                            # per the below, this is 10x SLOWER than any other line; if we can fix this we may not need to sample\n",
    "                            X = wk_df.loc[c, ['projected', 'points']].values  # don't use combos since it doesn't always include the player\n",
    "                            res = check_top_projection_fast(X)\n",
    "                            if not np.isnan(res):\n",
    "                                d = {}; d['res'] = res; d['players'] = c; d['values'] = X; d['week'] = wk; results.append(d)\n",
    "                            checked.add(c_tup)  # tuples are hashable iterables\n",
    "                        else:\n",
    "                            i += 1\n",
    "        if log:\n",
    "            print('Week {} completed'.format(str(wk)))\n",
    "    return checked, results, i"
   ]
  },
  {
   "cell_type": "markdown",
   "metadata": {},
   "source": [
    "### 4 player comparison"
   ]
  },
  {
   "cell_type": "code",
   "execution_count": 18,
   "metadata": {},
   "outputs": [
    {
     "name": "stdout",
     "output_type": "stream",
     "text": [
      "Week 1 completed\n",
      "Week 2 completed\n",
      "Week 3 completed\n",
      "Week 4 completed\n",
      "Week 5 completed\n",
      "Week 6 completed\n",
      "Week 7 completed\n",
      "Week 8 completed\n",
      "Week 9 completed\n",
      "Week 10 completed\n",
      "Week 11 completed\n",
      "Week 12 completed\n",
      "Week 13 completed\n",
      "Week 14 completed\n"
     ]
    }
   ],
   "source": [
    "win_pj = 3\n",
    "win_pl = 4\n",
    "pct = 0.01\n",
    "\n",
    "checked, results, i = run_test(flex, win_pj, win_pl, pct=pct, log=True)"
   ]
  },
  {
   "cell_type": "code",
   "execution_count": 19,
   "metadata": {},
   "outputs": [
    {
     "name": "stdout",
     "output_type": "stream",
     "text": [
      "number checked: 504361, \n",
      "number of results excludes (same top projection): 2731, \n",
      "number of already checked: 16098\n"
     ]
    }
   ],
   "source": [
    "print('number checked: {}, \\nnumber of results excludes (same top projection): {}, \\nnumber of already checked: {}'.format(len(checked), len(checked)-len(results), i))"
   ]
  },
  {
   "cell_type": "code",
   "execution_count": 20,
   "metadata": {},
   "outputs": [
    {
     "data": {
      "text/plain": [
       "0.29137412036760163"
      ]
     },
     "execution_count": 20,
     "metadata": {},
     "output_type": "execute_result"
    }
   ],
   "source": [
    "samples = [x['res'] for x in results]\n",
    "T = (sum(samples))/len(samples)\n",
    "T"
   ]
  },
  {
   "cell_type": "markdown",
   "metadata": {},
   "source": [
    "Since we used a sample, let's test whether the sample statistic is different from $25\\%$ at a level that is statistically significant. "
   ]
  },
  {
   "cell_type": "code",
   "execution_count": 29,
   "metadata": {},
   "outputs": [
    {
     "name": "stdout",
     "output_type": "stream",
     "text": [
      "p-value: 0.0\n"
     ]
    }
   ],
   "source": [
    "from scipy import stats\n",
    "print('p-value: {}'.format(stats.binom_test(sum(samples), n=len(samples), p=win_pl**-1, alternative='greater')))"
   ]
  },
  {
   "cell_type": "markdown",
   "metadata": {},
   "source": [
    "We reject the null hypothesis and conclude that selecting the top projected player will result in performance that is different from random chance, or approximately $29.14\\%$ of the time. "
   ]
  },
  {
   "cell_type": "markdown",
   "metadata": {},
   "source": [
    "And a 99.9% CI"
   ]
  },
  {
   "cell_type": "code",
   "execution_count": 76,
   "metadata": {},
   "outputs": [
    {
     "name": "stdout",
     "output_type": "stream",
     "text": [
      "99.9% CI for p=0.2914 on n=501630: [0.2893, 0.2935]\n"
     ]
    }
   ],
   "source": [
    "l = len(samples)\n",
    "p = sum(samples)/len(samples)\n",
    "print('99.9% CI for p={} on n={}: [{}, {}]'.format(np.round(p, 4), l, np.round(stats.binom(l, p).ppf(0.0005)/l,4), \n",
    "                                  np.round(stats.binom(l, p).ppf(0.9995)/l, 4)))"
   ]
  },
  {
   "cell_type": "markdown",
   "metadata": {},
   "source": [
    "### 3 player comparison"
   ]
  },
  {
   "cell_type": "code",
   "execution_count": 36,
   "metadata": {},
   "outputs": [
    {
     "name": "stdout",
     "output_type": "stream",
     "text": [
      "Week 1 completed\n",
      "Week 2 completed\n",
      "Week 3 completed\n",
      "Week 4 completed\n",
      "Week 5 completed\n",
      "Week 6 completed\n",
      "Week 7 completed\n",
      "Week 8 completed\n",
      "Week 9 completed\n",
      "Week 10 completed\n",
      "Week 11 completed\n",
      "Week 12 completed\n",
      "Week 13 completed\n",
      "Week 14 completed\n"
     ]
    }
   ],
   "source": [
    "win_pj = 3\n",
    "win_pl = 3\n",
    "pct = 1\n",
    "\n",
    "checked, results, i = run_test(flex, win_pj, win_pl, pct=pct, log=True)"
   ]
  },
  {
   "cell_type": "code",
   "execution_count": 37,
   "metadata": {},
   "outputs": [
    {
     "name": "stdout",
     "output_type": "stream",
     "text": [
      "number checked: 1016748, \n",
      "number of results excludes (same top projection): 4302, \n",
      "number of already checked: 3174258\n"
     ]
    }
   ],
   "source": [
    "print('number checked: {}, \\nnumber of results excludes (same top projection): {}, \\nnumber of already checked: {}'.format(len(checked), len(checked)-len(results), i))"
   ]
  },
  {
   "cell_type": "code",
   "execution_count": 38,
   "metadata": {},
   "outputs": [
    {
     "data": {
      "text/plain": [
       "0.39077442154939623"
      ]
     },
     "execution_count": 38,
     "metadata": {},
     "output_type": "execute_result"
    }
   ],
   "source": [
    "samples = [x['res'] for x in results]\n",
    "T = (sum(samples))/len(samples)\n",
    "T"
   ]
  },
  {
   "cell_type": "markdown",
   "metadata": {},
   "source": [
    "Interpretation: When you're picking from 3 players within 3 points, you'll select the top performing player by picking the top projected player $39.10\\%$ of the time!"
   ]
  },
  {
   "cell_type": "markdown",
   "metadata": {},
   "source": [
    "### 2 player comparison"
   ]
  },
  {
   "cell_type": "code",
   "execution_count": 39,
   "metadata": {},
   "outputs": [
    {
     "name": "stdout",
     "output_type": "stream",
     "text": [
      "Week 1 completed\n",
      "Week 2 completed\n",
      "Week 3 completed\n",
      "Week 4 completed\n",
      "Week 5 completed\n",
      "Week 6 completed\n",
      "Week 7 completed\n",
      "Week 8 completed\n",
      "Week 9 completed\n",
      "Week 10 completed\n",
      "Week 11 completed\n",
      "Week 12 completed\n",
      "Week 13 completed\n",
      "Week 14 completed\n"
     ]
    }
   ],
   "source": [
    "win_pj = 3\n",
    "win_pl = 2\n",
    "pct = 1\n",
    "\n",
    "checked, results, i = run_test(flex, win_pj, win_pl, pct=pct, log=True)"
   ]
  },
  {
   "cell_type": "code",
   "execution_count": 40,
   "metadata": {},
   "outputs": [
    {
     "name": "stdout",
     "output_type": "stream",
     "text": [
      "number checked: 58504, \n",
      "number of results excludes (same top projection): 129, \n",
      "number of already checked: 180501\n"
     ]
    }
   ],
   "source": [
    "print('number checked: {}, \\nnumber of results excludes (same top projection): {}, \\nnumber of already checked: {}'.format(len(checked), len(checked)-len(results), i))"
   ]
  },
  {
   "cell_type": "code",
   "execution_count": 41,
   "metadata": {},
   "outputs": [
    {
     "data": {
      "text/plain": [
       "0.5589550321199144"
      ]
     },
     "execution_count": 41,
     "metadata": {},
     "output_type": "execute_result"
    }
   ],
   "source": [
    "samples = [x['res'] for x in results]\n",
    "T = (sum(samples))/len(samples)\n",
    "T"
   ]
  },
  {
   "cell_type": "markdown",
   "metadata": {},
   "source": [
    "Interpretation: When you're picking from 2 players within 3 points, you'll select the top performing player by picking the top projected player $55.90\\%$ of the time!"
   ]
  },
  {
   "cell_type": "markdown",
   "metadata": {},
   "source": [
    "### run analysis over 2 years\n",
    "need another API to fetch pre-2019 data"
   ]
  },
  {
   "cell_type": "code",
   "execution_count": 29,
   "metadata": {
    "scrolled": true
   },
   "outputs": [
    {
     "name": "stdout",
     "output_type": "stream",
     "text": [
      "2019 (6432, 5)\n",
      "Approximate number of players per week for QB: 29, min: 25\n",
      "Approximate number of players per week for RB: 53, min: 44\n",
      "Approximate number of players per week for WR: 60, min: 49\n",
      "Approximate number of players per week for TE: 21, min: 18\n",
      "(2174, 5)\n",
      "number of players being compared: 2\n",
      "number checked: 62691, \n",
      "number of results excludes (same top projection): 112, \n",
      "number of already checked: 193122, \n",
      "T = 0.5607312357180524\n",
      "number of players being compared: 3\n",
      "number checked: 1056060, \n",
      "number of results excludes (same top projection): 3670, \n",
      "number of already checked: 3285523, \n",
      "T = 0.39842263799541994\n",
      "number of players being compared: 4\n",
      "number checked: 506192, \n",
      "number of results excludes (same top projection): 2275, \n",
      "number of already checked: 15864, \n",
      "T = 0.30659612594931307\n",
      "2020 (5628, 5)\n",
      "Approximate number of players per week for QB: 29, min: 27\n",
      "Approximate number of players per week for RB: 54, min: 48\n",
      "Approximate number of players per week for WR: 63, min: 58\n",
      "Approximate number of players per week for TE: 21, min: 17\n",
      "(1951, 5)\n",
      "number of players being compared: 2\n",
      "number checked: 58504, \n",
      "number of results excludes (same top projection): 129, \n",
      "number of already checked: 180501, \n",
      "T = 0.5589550321199144\n",
      "number of players being compared: 3\n",
      "number checked: 1016748, \n",
      "number of results excludes (same top projection): 4302, \n",
      "number of already checked: 3174258, \n",
      "T = 0.39077442154939623\n",
      "number of players being compared: 4\n",
      "number checked: 504361, \n",
      "number of results excludes (same top projection): 2731, \n",
      "number of already checked: 16098, \n",
      "T = 0.29137412036760163\n"
     ]
    }
   ],
   "source": [
    "final = []\n",
    "for year, week in zip(range(2019,2021), [16,14]):\n",
    "    with open(r'data/projections_{}_thru_wk_{}_ppr.json'.format(year, week), 'r') as f:\n",
    "            jsons = json.load(f)\n",
    "\n",
    "    recs = pd.DataFrame(jsons)\n",
    "    print(year, recs.shape)\n",
    "\n",
    "    idxs = []\n",
    "    for k, v in [('QB', 10), ('RB', 5), ('WR', 8), ('TE', 5)]:\n",
    "        hold = recs.loc[(recs['position'] == k) & (recs['projected'] >= v)]\n",
    "        print('Approximate number of players per week for {}: {}, min: {}'.format(k, int(hold.groupby(by='week')['projected'].count().mean()), hold.groupby(by='week')['projected'].count().min()))\n",
    "        idxs = idxs + list(hold.index.values)\n",
    "\n",
    "    recs = recs.iloc[idxs]\n",
    "    flex = recs.loc[recs['position'].isin(['RB', 'WR', 'TE'])].copy()\n",
    "    print(flex.shape)\n",
    "    \n",
    "    for win_pj, win_pl, pct in zip([3]*3, list(range(2,5)), [1, 1, 0.01]):\n",
    "        print('number of players being compared: {}'.format(win_pl))\n",
    "        \n",
    "        checked, results, i = run_test(flex, win_pj, win_pl, pct=pct, log=False)\n",
    "        samples = [x['res'] for x in results]\n",
    "        T = (sum(samples))/len(samples)\n",
    "        print('number checked: {}, \\nnumber of results excludes (same top projection): {}, \\nnumber of already checked: {}, \\nT = {}'.format(len(checked), len(checked)-len(results), i, T))\n",
    "        d = {}; d['year'] = year; d['last_week'] = week; d['data'] = flex; d['win_pj'] = win_pj; d['win_pl'] = win_pl; d['pct'] = pct; d['data_analysis'] = results; d['statistic'] = T; d['summary'] = (len(checked), len(checked)-len(results), i);\n",
    "        final.append(d)"
   ]
  },
  {
   "cell_type": "markdown",
   "metadata": {},
   "source": [
    "# Conclusion"
   ]
  },
  {
   "cell_type": "code",
   "execution_count": 104,
   "metadata": {},
   "outputs": [],
   "source": [
    "p2 = np.array([x['statistic'] for x in final if x['win_pl'] == 2] + [1/2])\n",
    "p3 = np.array([x['statistic'] for x in final if x['win_pl'] == 3] + [1/3])\n",
    "p4 = np.array([x['statistic'] for x in final if x['win_pl'] == 4] + [1/4])"
   ]
  },
  {
   "cell_type": "code",
   "execution_count": 117,
   "metadata": {},
   "outputs": [
    {
     "data": {
      "image/png": "[encoded data removed]",
      "text/plain": [
       "<Figure size 432x288 with 1 Axes>"
      ]
     },
     "metadata": {
      "needs_background": "light"
     },
     "output_type": "display_data"
    }
   ],
   "source": [
    "data = np.array([p2, p3, p4]).T\n",
    "X = np.arange(len(data))\n",
    "fig = plt.figure()\n",
    "ax = fig.add_axes([0,0,1,1])\n",
    "ax.set_xticks(np.arange(0.25, 3.25, 1))\n",
    "labels = ['2 players', '3 players', '4 players']\n",
    "ax.set_xticklabels(labels)\n",
    "ax.plot(np.linspace(-0.125, 0.625, 1000), [0.5]*1000, 'k--')\n",
    "ax.bar(X + 0.00, data[0], color = 'crimson', alpha=1.0, width = 0.25, label='2019')\n",
    "#ax.barh(np.linspace(0, 1, 1000))\n",
    "ax.plot(np.linspace(-0.125+1, 0.625+1, 1000), [1/3]*1000, 'k--')\n",
    "ax.bar(X + 0.25, data[1], color = 'crimson', alpha=0.75, width = 0.25, label='2020')\n",
    "ax.plot(np.linspace(-0.125+2, 0.625+2, 1000), [0.25]*1000, 'k--')\n",
    "ax.bar(X + 0.50, data[2], color = 'crimson', alpha=0.25, width = 0.25, label='random')\n",
    "plt.ylim(0.2, 0.6)\n",
    "plt.legend()\n",
    "plt.title('Simulation Peformance vs Random\\n3 pt window')\n",
    "plt.show()"
   ]
  },
  {
   "cell_type": "code",
   "execution_count": 122,
   "metadata": {},
   "outputs": [
    {
     "data": {
      "text/plain": [
       "array([0.56 , 0.395, 0.299])"
      ]
     },
     "execution_count": 122,
     "metadata": {},
     "output_type": "execute_result"
    }
   ],
   "source": [
    "avgs = np.round(data[:2].mean(axis=0), 3)\n",
    "avgs"
   ]
  },
  {
   "cell_type": "code",
   "execution_count": 124,
   "metadata": {},
   "outputs": [
    {
     "data": {
      "text/plain": [
       "array([0.06 , 0.062, 0.049])"
      ]
     },
     "execution_count": 124,
     "metadata": {},
     "output_type": "execute_result"
    }
   ],
   "source": [
    "np.round(avgs - np.array([1/2, 1/3, 1/4]), 3)"
   ]
  },
  {
   "cell_type": "markdown",
   "metadata": {},
   "source": [
    "As shown in the above, we can see that our 2, 3, and 4 player comparisons over a 3 point window perform better than random (black dotted line.) It is pretty consistent across our two season sample. Overall, the deltas create between a 5 and 6% edge versus random. \n",
    "\n",
    "It's important to note that this analysis is essentially meaningless since it lacks a baseline: we don't know how other strategies such as starting the top ranked player will perform. The good news is this algorithm is easily transferable to any data set. Getting the data unfortunately, as is frequently the case, is the challenge! "
   ]
  },
  {
   "cell_type": "markdown",
   "metadata": {},
   "source": [
    "## odds & ends"
   ]
  },
  {
   "cell_type": "markdown",
   "metadata": {},
   "source": [
    "### unit tests \n",
    "no output is good"
   ]
  },
  {
   "cell_type": "code",
   "execution_count": 30,
   "metadata": {},
   "outputs": [],
   "source": [
    "# since we exclude plyr_idx from combinations, this isn't always sorted which means set will hash it differently if we don't sort\n",
    "hold = {tuple(sorted(x['players'])) for x in results}\n",
    "assert len(hold) == len(results)"
   ]
  },
  {
   "cell_type": "code",
   "execution_count": 31,
   "metadata": {},
   "outputs": [],
   "source": [
    "# projected, points\n",
    "assert True == check_top_projection_fast(np.array([[6,7], [7,8], [8,9], [9, 10]]))  # top projected is top points"
   ]
  },
  {
   "cell_type": "code",
   "execution_count": 32,
   "metadata": {},
   "outputs": [],
   "source": [
    "assert True == check_top_projection_fast(np.array([[10,15], [8,8], [8,9], [9, 10]]))  # top projected is top points"
   ]
  },
  {
   "cell_type": "code",
   "execution_count": 33,
   "metadata": {},
   "outputs": [],
   "source": [
    "# projected, points\n",
    "# if top projected is two people, we don't want to make a decision on them\n",
    "assert np.isnan(check_top_projection_fast(np.array([[6,7], [7,8], [9,9], [9, 10]])))"
   ]
  },
  {
   "cell_type": "code",
   "execution_count": 34,
   "metadata": {},
   "outputs": [],
   "source": [
    "# projected, points\n",
    "# top projected is not top\n",
    "assert False == check_top_projection_fast(np.array([[10,7], [7,8], [9,9], [9, 10]]))"
   ]
  },
  {
   "cell_type": "code",
   "execution_count": 35,
   "metadata": {},
   "outputs": [],
   "source": [
    "# projected, points\n",
    "# top projected is not top, however matching projections that are highest are\n",
    "assert False == check_top_projection_fast(np.array([[10,7], [8,10], [8,10], [7, 9]]))"
   ]
  },
  {
   "cell_type": "markdown",
   "metadata": {},
   "source": [
    "Our algorithm appears to be working correctly in that it is determining whether the top projected player was the top scorer."
   ]
  },
  {
   "cell_type": "markdown",
   "metadata": {},
   "source": [
    "### qc"
   ]
  },
  {
   "cell_type": "code",
   "execution_count": null,
   "metadata": {
    "scrolled": true
   },
   "outputs": [],
   "source": [
    "win_pj = 3\n",
    "win_pl = 4\n",
    "checked = set()\n",
    "results = []\n",
    "bad_results = []\n",
    "pct = 0.01\n",
    "i=0\n",
    "\n",
    "for wk in range(1, recs.week.max()+1):\n",
    "    wk_df = flex.loc[flex['week'] == wk].copy()\n",
    "    for nm in wk_df.name.sort_values():\n",
    "        plyr = flex.loc[(flex['name'] == nm) & (flex['week'] == wk)].reset_index().to_dict(orient='records')[0]\n",
    "        print(wk, plyr['name'])\n",
    "        for l, u in check_wins(plyr['projected'], win_pj):\n",
    "            combos = flex.loc[(flex['name'] != nm) & (flex['week'] == wk) & (flex['projected'] >= l) & (flex['projected'] < u)]\n",
    "            if len(combos) >= win_pl-1:\n",
    "                for c in sample_arr(list(combinations(combos.index.values, r=win_pl-1)), pct, seed=69):  # sample all possible combinations\n",
    "                    c = sorted(list(c) + [plyr['index']])  # since we exclude plyr_idx from combinations, this isn't always sorted\n",
    "                    c_tup = tuple(c)\n",
    "                    if c_tup not in checked:\n",
    "                        # per the below, this is 10x SLOWER than any other line; if we can fix this we may not need to sample\n",
    "                        X = wk_df.loc[c, ['projected', 'points']].values  # don't use combos since it doesn't always include the player\n",
    "                        res = check_top_projection_fast(X)\n",
    "                        if np.isnan(res):\n",
    "                            e = {}; e['players'] = c; e['values'] = X; bad_results.append(e)\n",
    "                        else:\n",
    "                            d = {}; d['res'] = res; d['players'] = c; d['values'] = X; d['week'] = wk; results.append(d)\n",
    "                        checked.add(c_tup)  # tuples are hashable iterables\n",
    "                    else:\n",
    "                        i += 1"
   ]
  },
  {
   "cell_type": "code",
   "execution_count": 26,
   "metadata": {},
   "outputs": [
    {
     "name": "stdout",
     "output_type": "stream",
     "text": [
      "number checked: 504361, \n",
      "number of results excludes (same top projection): 2731, \n",
      "number of already checked: 16098\n"
     ]
    }
   ],
   "source": [
    "# results are for seed = 69\n",
    "print('number checked: {}, \\nnumber of results excludes (same top projection): {}, \\nnumber of already checked: {}'.format(len(checked), len(checked)-len(results), i))"
   ]
  },
  {
   "cell_type": "code",
   "execution_count": 70,
   "metadata": {},
   "outputs": [
    {
     "data": {
      "text/plain": [
       "0.29137412036760163"
      ]
     },
     "execution_count": 70,
     "metadata": {},
     "output_type": "execute_result"
    }
   ],
   "source": [
    "# results are for seed = 69\n",
    "samples = [x['res'] for x in results]\n",
    "T = (sum(samples))/len(samples)\n",
    "T"
   ]
  },
  {
   "cell_type": "code",
   "execution_count": 509,
   "metadata": {},
   "outputs": [
    {
     "data": {
      "text/plain": [
       "array([{'res': True, 'players': [93, 100, 192, 229], 'values': array([[10.93,  8.2 ],\n",
       "       [10.82,  2.9 ],\n",
       "       [12.57, 10.7 ],\n",
       "       [11.64,  6.6 ]]), 'week': 1},\n",
       "       {'res': True, 'players': [987, 1005, 1028, 1117], 'values': array([[12.4 ,  8.2 ],\n",
       "       [12.59, 25.8 ],\n",
       "       [10.29,  1.  ],\n",
       "       [11.17,  7.1 ]]), 'week': 3},\n",
       "       {'res': False, 'players': [4521, 4606, 4611, 4644], 'values': array([[11.75, 17.5 ],\n",
       "       [11.23, 10.  ],\n",
       "       [13.  ,  9.3 ],\n",
       "       [11.91,  7.4 ]]), 'week': 12},\n",
       "       {'res': True, 'players': [3681, 3703, 3928, 3936], 'values': array([[11.85,  5.7 ],\n",
       "       [12.32, 10.7 ],\n",
       "       [11.06,  4.8 ],\n",
       "       [ 9.64,  2.1 ]]), 'week': 10},\n",
       "       {'res': False, 'players': [4528, 4532, 4643, 4652], 'values': array([[ 7.28,  1.9 ],\n",
       "       [ 9.18, 11.6 ],\n",
       "       [ 9.01, 11.9 ],\n",
       "       [ 9.55,  5.8 ]]), 'week': 12}], dtype=object)"
      ]
     },
     "execution_count": 509,
     "metadata": {},
     "output_type": "execute_result"
    }
   ],
   "source": [
    "hold = [rng.integers(0,len(results)) for _ in range(5)]\n",
    "np.array(results)[hold]"
   ]
  },
  {
   "cell_type": "code",
   "execution_count": 514,
   "metadata": {},
   "outputs": [
    {
     "data": {
      "text/html": [
       "<div>\n",
       "<style scoped>\n",
       "    .dataframe tbody tr th:only-of-type {\n",
       "        vertical-align: middle;\n",
       "    }\n",
       "\n",
       "    .dataframe tbody tr th {\n",
       "        vertical-align: top;\n",
       "    }\n",
       "\n",
       "    .dataframe thead th {\n",
       "        text-align: right;\n",
       "    }\n",
       "</style>\n",
       "<table border=\"1\" class=\"dataframe\">\n",
       "  <thead>\n",
       "    <tr style=\"text-align: right;\">\n",
       "      <th></th>\n",
       "      <th>name</th>\n",
       "      <th>points</th>\n",
       "      <th>projected</th>\n",
       "      <th>position</th>\n",
       "      <th>week</th>\n",
       "      <th>prmp</th>\n",
       "    </tr>\n",
       "  </thead>\n",
       "  <tbody>\n",
       "    <tr>\n",
       "      <th>4528</th>\n",
       "      <td>Malcolm Brown</td>\n",
       "      <td>1.9</td>\n",
       "      <td>7.28</td>\n",
       "      <td>RB</td>\n",
       "      <td>12</td>\n",
       "      <td>5.38</td>\n",
       "    </tr>\n",
       "    <tr>\n",
       "      <th>4532</th>\n",
       "      <td>Frank Gore</td>\n",
       "      <td>11.6</td>\n",
       "      <td>9.18</td>\n",
       "      <td>RB</td>\n",
       "      <td>12</td>\n",
       "      <td>-2.42</td>\n",
       "    </tr>\n",
       "    <tr>\n",
       "      <th>4643</th>\n",
       "      <td>Breshad Perriman</td>\n",
       "      <td>11.9</td>\n",
       "      <td>9.01</td>\n",
       "      <td>WR</td>\n",
       "      <td>12</td>\n",
       "      <td>-2.89</td>\n",
       "    </tr>\n",
       "    <tr>\n",
       "      <th>4652</th>\n",
       "      <td>Anthony Miller</td>\n",
       "      <td>5.8</td>\n",
       "      <td>9.55</td>\n",
       "      <td>WR</td>\n",
       "      <td>12</td>\n",
       "      <td>3.75</td>\n",
       "    </tr>\n",
       "  </tbody>\n",
       "</table>\n",
       "</div>"
      ],
      "text/plain": [
       "                  name  points  projected position  week  prmp\n",
       "4528     Malcolm Brown     1.9       7.28       RB    12  5.38\n",
       "4532        Frank Gore    11.6       9.18       RB    12 -2.42\n",
       "4643  Breshad Perriman    11.9       9.01       WR    12 -2.89\n",
       "4652    Anthony Miller     5.8       9.55       WR    12  3.75"
      ]
     },
     "execution_count": 514,
     "metadata": {},
     "output_type": "execute_result"
    }
   ],
   "source": [
    "flex.loc[np.array(results)[hold[4]]['players']]"
   ]
  }
 ],
 "metadata": {
  "kernelspec": {
   "display_name": "Python 3",
   "language": "python",
   "name": "python3"
  },
  "language_info": {
   "codemirror_mode": {
    "name": "ipython",
    "version": 3
   },
   "file_extension": ".py",
   "mimetype": "text/x-python",
   "name": "python",
   "nbconvert_exporter": "python",
   "pygments_lexer": "ipython3",
   "version": "3.7.5"
  }
 },
 "nbformat": 4,
 "nbformat_minor": 4
}
