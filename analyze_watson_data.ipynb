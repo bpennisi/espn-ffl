{
 "cells": [
  {
   "cell_type": "markdown",
   "metadata": {},
   "source": [
    "### **WIP, still trying to determine why the CDF estimates don't match ESPN's website. prior to that, I can't confirm I'm getting the same distributions that are made available by ESPN"
   ]
  },
  {
   "cell_type": "markdown",
   "metadata": {},
   "source": [
    "# analyze watson projection data\n",
    "ref http://ben-tanen.com/projects/2020/01/08/ibm-watson-ff.html (ppr)"
   ]
  },
  {
   "cell_type": "code",
   "execution_count": 1,
   "metadata": {},
   "outputs": [
    {
     "data": {
      "text/html": [
       "<div>\n",
       "<style scoped>\n",
       "    .dataframe tbody tr th:only-of-type {\n",
       "        vertical-align: middle;\n",
       "    }\n",
       "\n",
       "    .dataframe tbody tr th {\n",
       "        vertical-align: top;\n",
       "    }\n",
       "\n",
       "    .dataframe thead th {\n",
       "        text-align: right;\n",
       "    }\n",
       "</style>\n",
       "<table border=\"1\" class=\"dataframe\">\n",
       "  <thead>\n",
       "    <tr style=\"text-align: right;\">\n",
       "      <th></th>\n",
       "      <th>player</th>\n",
       "      <th>week</th>\n",
       "      <th>actual_score</th>\n",
       "      <th>proj_score</th>\n",
       "      <th>boom_pct</th>\n",
       "      <th>boom_pts</th>\n",
       "      <th>bust_pct</th>\n",
       "      <th>bust_pts</th>\n",
       "      <th>mid_pct</th>\n",
       "    </tr>\n",
       "  </thead>\n",
       "  <tbody>\n",
       "    <tr>\n",
       "      <th>0</th>\n",
       "      <td>49ers D/ST</td>\n",
       "      <td>Week 01 vs Bucs</td>\n",
       "      <td>28.0</td>\n",
       "      <td>6.3</td>\n",
       "      <td>0.24</td>\n",
       "      <td>12.6</td>\n",
       "      <td>0.10</td>\n",
       "      <td>4.3</td>\n",
       "      <td>0.66</td>\n",
       "    </tr>\n",
       "    <tr>\n",
       "      <th>1</th>\n",
       "      <td>49ers D/ST</td>\n",
       "      <td>Week 02 vs Bengals</td>\n",
       "      <td>7.0</td>\n",
       "      <td>6.1</td>\n",
       "      <td>0.23</td>\n",
       "      <td>15.3</td>\n",
       "      <td>0.08</td>\n",
       "      <td>4.1</td>\n",
       "      <td>0.69</td>\n",
       "    </tr>\n",
       "    <tr>\n",
       "      <th>2</th>\n",
       "      <td>49ers D/ST</td>\n",
       "      <td>Week 03 vs Steelers</td>\n",
       "      <td>8.0</td>\n",
       "      <td>7.4</td>\n",
       "      <td>0.23</td>\n",
       "      <td>13.0</td>\n",
       "      <td>0.19</td>\n",
       "      <td>4.3</td>\n",
       "      <td>0.58</td>\n",
       "    </tr>\n",
       "    <tr>\n",
       "      <th>3</th>\n",
       "      <td>49ers D/ST</td>\n",
       "      <td>Week 05 vs Browns</td>\n",
       "      <td>19.0</td>\n",
       "      <td>6.0</td>\n",
       "      <td>0.14</td>\n",
       "      <td>14.7</td>\n",
       "      <td>0.21</td>\n",
       "      <td>3.7</td>\n",
       "      <td>0.65</td>\n",
       "    </tr>\n",
       "    <tr>\n",
       "      <th>4</th>\n",
       "      <td>49ers D/ST</td>\n",
       "      <td>Week 06 vs Rams</td>\n",
       "      <td>12.0</td>\n",
       "      <td>6.0</td>\n",
       "      <td>0.23</td>\n",
       "      <td>14.6</td>\n",
       "      <td>0.14</td>\n",
       "      <td>4.1</td>\n",
       "      <td>0.63</td>\n",
       "    </tr>\n",
       "  </tbody>\n",
       "</table>\n",
       "</div>"
      ],
      "text/plain": [
       "       player                 week  actual_score  proj_score  boom_pct  \\\n",
       "0  49ers D/ST      Week 01 vs Bucs          28.0         6.3      0.24   \n",
       "1  49ers D/ST   Week 02 vs Bengals           7.0         6.1      0.23   \n",
       "2  49ers D/ST  Week 03 vs Steelers           8.0         7.4      0.23   \n",
       "3  49ers D/ST    Week 05 vs Browns          19.0         6.0      0.14   \n",
       "4  49ers D/ST      Week 06 vs Rams          12.0         6.0      0.23   \n",
       "\n",
       "   boom_pts  bust_pct  bust_pts  mid_pct  \n",
       "0      12.6      0.10       4.3     0.66  \n",
       "1      15.3      0.08       4.1     0.69  \n",
       "2      13.0      0.19       4.3     0.58  \n",
       "3      14.7      0.21       3.7     0.65  \n",
       "4      14.6      0.14       4.1     0.63  "
      ]
     },
     "execution_count": 1,
     "metadata": {},
     "output_type": "execute_result"
    }
   ],
   "source": [
    "import pandas as pd\n",
    "import matplotlib.pyplot as plt\n",
    "import json\n",
    "import numpy as np\n",
    "w = pd.read_csv(r'data/ibm-watson-ff-projections-2019.csv')\n",
    "w.head()"
   ]
  },
  {
   "cell_type": "code",
   "execution_count": 2,
   "metadata": {},
   "outputs": [
    {
     "data": {
      "image/png": "[encoded data removed]",
      "text/plain": [
       "<Figure size 432x288 with 1 Axes>"
      ]
     },
     "metadata": {
      "needs_background": "light"
     },
     "output_type": "display_data"
    }
   ],
   "source": [
    "(1 - w.boom_pct).hist()\n",
    "plt.title('Boom Pctl')\n",
    "plt.show()"
   ]
  },
  {
   "cell_type": "code",
   "execution_count": 3,
   "metadata": {},
   "outputs": [
    {
     "data": {
      "image/png": "[encoded data removed]",
      "text/plain": [
       "<Figure size 432x288 with 1 Axes>"
      ]
     },
     "metadata": {
      "needs_background": "light"
     },
     "output_type": "display_data"
    }
   ],
   "source": [
    "w.bust_pct.hist()\n",
    "plt.title('Bust Pctl')\n",
    "plt.show()"
   ]
  },
  {
   "cell_type": "code",
   "execution_count": 4,
   "metadata": {},
   "outputs": [
    {
     "data": {
      "image/png": "[encoded data removed]",
      "text/plain": [
       "<Figure size 432x288 with 1 Axes>"
      ]
     },
     "metadata": {
      "needs_background": "light"
     },
     "output_type": "display_data"
    }
   ],
   "source": [
    "w.mid_pct.hist()\n",
    "plt.title('Mid Pctl')\n",
    "plt.show()"
   ]
  },
  {
   "cell_type": "code",
   "execution_count": 5,
   "metadata": {},
   "outputs": [],
   "source": [
    "import requests"
   ]
  },
  {
   "cell_type": "markdown",
   "metadata": {},
   "source": [
    "here is a link to access josh jacob's watson distribution data. let's test it out to make sure the distribution looks correct!\n",
    "https://watsonfantasyfootball.espn.com/espnpartner/dallas/players/players_4047365_ESPNFantasyFootball_2020.json\n",
    "https://watsonfantasyfootball.espn.com/espnpartner/dallas/projections/projections_4047365_ESPNFantasyFootball_2020.json"
   ]
  },
  {
   "cell_type": "code",
   "execution_count": 6,
   "metadata": {},
   "outputs": [
    {
     "data": {
      "text/plain": [
       "83"
      ]
     },
     "execution_count": 6,
     "metadata": {},
     "output_type": "execute_result"
    }
   ],
   "source": [
    "\n",
    "pid = 16799\n",
    "resp = json.loads(requests.get('https://watsonfantasyfootball.espn.com/espnpartner/dallas/projections/projections_{}_ESPNFantasyFootball_2020.json'.format(pid)).text)\n",
    "len(resp)"
   ]
  },
  {
   "cell_type": "code",
   "execution_count": 7,
   "metadata": {},
   "outputs": [],
   "source": [
    "pid = 16799\n",
    "hold = json.loads(requests.get('https://watsonfantasyfootball.espn.com/espnpartner/dallas/classifiers/classifiers_{}_ESPNFantasyFootball_2020.json'.format(pid)).text)"
   ]
  },
  {
   "cell_type": "code",
   "execution_count": 8,
   "metadata": {},
   "outputs": [
    {
     "data": {
      "text/html": [
       "<div>\n",
       "<style scoped>\n",
       "    .dataframe tbody tr th:only-of-type {\n",
       "        vertical-align: middle;\n",
       "    }\n",
       "\n",
       "    .dataframe tbody tr th {\n",
       "        vertical-align: top;\n",
       "    }\n",
       "\n",
       "    .dataframe thead tr th {\n",
       "        text-align: left;\n",
       "    }\n",
       "\n",
       "    .dataframe thead tr:last-of-type th {\n",
       "        text-align: right;\n",
       "    }\n",
       "</style>\n",
       "<table border=\"1\" class=\"dataframe\">\n",
       "  <thead>\n",
       "    <tr>\n",
       "      <th></th>\n",
       "      <th colspan=\"4\" halign=\"left\">NORMALIZED_RESULT</th>\n",
       "    </tr>\n",
       "    <tr>\n",
       "      <th>MODEL_TYPE</th>\n",
       "      <th>breakout_classifier</th>\n",
       "      <th>bust_classifier</th>\n",
       "      <th>play_with_injury_classifier</th>\n",
       "      <th>play_without_injury_classifier</th>\n",
       "    </tr>\n",
       "    <tr>\n",
       "      <th>DATA_TIMESTAMP</th>\n",
       "      <th></th>\n",
       "      <th></th>\n",
       "      <th></th>\n",
       "      <th></th>\n",
       "    </tr>\n",
       "  </thead>\n",
       "  <tbody>\n",
       "    <tr>\n",
       "      <th>2020-09-27 00:00:00.000000</th>\n",
       "      <td>0.160168</td>\n",
       "      <td>0.185084</td>\n",
       "      <td>0.693933</td>\n",
       "      <td>0.843172</td>\n",
       "    </tr>\n",
       "    <tr>\n",
       "      <th>2020-09-28 00:00:00.000000</th>\n",
       "      <td>0.148601</td>\n",
       "      <td>0.084539</td>\n",
       "      <td>0.792011</td>\n",
       "      <td>0.831333</td>\n",
       "    </tr>\n",
       "    <tr>\n",
       "      <th>2020-09-29 00:00:00.000000</th>\n",
       "      <td>0.212582</td>\n",
       "      <td>0.084702</td>\n",
       "      <td>0.762432</td>\n",
       "      <td>0.973740</td>\n",
       "    </tr>\n",
       "    <tr>\n",
       "      <th>2020-09-30 00:00:00.000000</th>\n",
       "      <td>0.261395</td>\n",
       "      <td>0.175934</td>\n",
       "      <td>0.792473</td>\n",
       "      <td>0.832345</td>\n",
       "    </tr>\n",
       "    <tr>\n",
       "      <th>2020-10-01 00:00:00.000000</th>\n",
       "      <td>0.194582</td>\n",
       "      <td>0.077249</td>\n",
       "      <td>0.669825</td>\n",
       "      <td>0.831333</td>\n",
       "    </tr>\n",
       "    <tr>\n",
       "      <th>...</th>\n",
       "      <td>...</td>\n",
       "      <td>...</td>\n",
       "      <td>...</td>\n",
       "      <td>...</td>\n",
       "    </tr>\n",
       "    <tr>\n",
       "      <th>2020-12-21 00:00:00.000000</th>\n",
       "      <td>0.269480</td>\n",
       "      <td>0.269643</td>\n",
       "      <td>0.759052</td>\n",
       "      <td>0.831748</td>\n",
       "    </tr>\n",
       "    <tr>\n",
       "      <th>2020-12-22 00:00:00.000000</th>\n",
       "      <td>0.265894</td>\n",
       "      <td>0.250486</td>\n",
       "      <td>0.747574</td>\n",
       "      <td>0.831333</td>\n",
       "    </tr>\n",
       "    <tr>\n",
       "      <th>2020-12-23 00:00:00.000000</th>\n",
       "      <td>0.269480</td>\n",
       "      <td>0.269643</td>\n",
       "      <td>0.694800</td>\n",
       "      <td>0.900241</td>\n",
       "    </tr>\n",
       "    <tr>\n",
       "      <th>2020-12-24 00:00:00.000000</th>\n",
       "      <td>0.260396</td>\n",
       "      <td>0.265081</td>\n",
       "      <td>0.764306</td>\n",
       "      <td>0.831333</td>\n",
       "    </tr>\n",
       "    <tr>\n",
       "      <th>2020-12-25 00:00:00.000000</th>\n",
       "      <td>0.257819</td>\n",
       "      <td>0.269643</td>\n",
       "      <td>0.697953</td>\n",
       "      <td>0.831333</td>\n",
       "    </tr>\n",
       "  </tbody>\n",
       "</table>\n",
       "<p>83 rows × 4 columns</p>\n",
       "</div>"
      ],
      "text/plain": [
       "                             NORMALIZED_RESULT                  \\\n",
       "MODEL_TYPE                 breakout_classifier bust_classifier   \n",
       "DATA_TIMESTAMP                                                   \n",
       "2020-09-27 00:00:00.000000            0.160168        0.185084   \n",
       "2020-09-28 00:00:00.000000            0.148601        0.084539   \n",
       "2020-09-29 00:00:00.000000            0.212582        0.084702   \n",
       "2020-09-30 00:00:00.000000            0.261395        0.175934   \n",
       "2020-10-01 00:00:00.000000            0.194582        0.077249   \n",
       "...                                        ...             ...   \n",
       "2020-12-21 00:00:00.000000            0.269480        0.269643   \n",
       "2020-12-22 00:00:00.000000            0.265894        0.250486   \n",
       "2020-12-23 00:00:00.000000            0.269480        0.269643   \n",
       "2020-12-24 00:00:00.000000            0.260396        0.265081   \n",
       "2020-12-25 00:00:00.000000            0.257819        0.269643   \n",
       "\n",
       "                                                        \\\n",
       "MODEL_TYPE                 play_with_injury_classifier   \n",
       "DATA_TIMESTAMP                                           \n",
       "2020-09-27 00:00:00.000000                    0.693933   \n",
       "2020-09-28 00:00:00.000000                    0.792011   \n",
       "2020-09-29 00:00:00.000000                    0.762432   \n",
       "2020-09-30 00:00:00.000000                    0.792473   \n",
       "2020-10-01 00:00:00.000000                    0.669825   \n",
       "...                                                ...   \n",
       "2020-12-21 00:00:00.000000                    0.759052   \n",
       "2020-12-22 00:00:00.000000                    0.747574   \n",
       "2020-12-23 00:00:00.000000                    0.694800   \n",
       "2020-12-24 00:00:00.000000                    0.764306   \n",
       "2020-12-25 00:00:00.000000                    0.697953   \n",
       "\n",
       "                                                           \n",
       "MODEL_TYPE                 play_without_injury_classifier  \n",
       "DATA_TIMESTAMP                                             \n",
       "2020-09-27 00:00:00.000000                       0.843172  \n",
       "2020-09-28 00:00:00.000000                       0.831333  \n",
       "2020-09-29 00:00:00.000000                       0.973740  \n",
       "2020-09-30 00:00:00.000000                       0.832345  \n",
       "2020-10-01 00:00:00.000000                       0.831333  \n",
       "...                                                   ...  \n",
       "2020-12-21 00:00:00.000000                       0.831748  \n",
       "2020-12-22 00:00:00.000000                       0.831333  \n",
       "2020-12-23 00:00:00.000000                       0.900241  \n",
       "2020-12-24 00:00:00.000000                       0.831333  \n",
       "2020-12-25 00:00:00.000000                       0.831333  \n",
       "\n",
       "[83 rows x 4 columns]"
      ]
     },
     "execution_count": 8,
     "metadata": {},
     "output_type": "execute_result"
    }
   ],
   "source": [
    "pd.DataFrame(hold).loc[:, ['DATA_TIMESTAMP', 'MODEL_TYPE', 'NORMALIZED_RESULT']].set_index('DATA_TIMESTAMP').pivot(columns=['MODEL_TYPE'])"
   ]
  },
  {
   "cell_type": "code",
   "execution_count": 9,
   "metadata": {},
   "outputs": [],
   "source": [
    "rec = resp[-1]\n",
    "#rec = x[-1]"
   ]
  },
  {
   "cell_type": "code",
   "execution_count": 10,
   "metadata": {},
   "outputs": [
    {
     "data": {
      "text/plain": [
       "datetime.date(2020, 12, 25)"
      ]
     },
     "execution_count": 10,
     "metadata": {},
     "output_type": "execute_result"
    }
   ],
   "source": [
    "import datetime\n",
    "\n",
    "def parse_date(data_timestamp):\n",
    "    return datetime.datetime.strptime(data_timestamp[:10], '%Y-%m-%d').date()\n",
    "\n",
    "parse_date(rec['DATA_TIMESTAMP'])"
   ]
  },
  {
   "cell_type": "code",
   "execution_count": 11,
   "metadata": {},
   "outputs": [
    {
     "data": {
      "text/plain": [
       "([datetime.date(2020, 9, 9),\n",
       "  datetime.date(2020, 9, 10),\n",
       "  datetime.date(2020, 9, 11),\n",
       "  datetime.date(2020, 9, 12),\n",
       "  datetime.date(2020, 9, 13),\n",
       "  datetime.date(2020, 9, 14),\n",
       "  datetime.date(2020, 9, 15)],\n",
       " [datetime.date(2020, 12, 23),\n",
       "  datetime.date(2020, 12, 24),\n",
       "  datetime.date(2020, 12, 25),\n",
       "  datetime.date(2020, 12, 26),\n",
       "  datetime.date(2020, 12, 27),\n",
       "  datetime.date(2020, 12, 28),\n",
       "  datetime.date(2020, 12, 29)])"
      ]
     },
     "execution_count": 11,
     "metadata": {},
     "output_type": "execute_result"
    }
   ],
   "source": [
    "def get_week_dates(week_dt):\n",
    "    return [week_dt + datetime.timedelta(days=-d) for d in range(4,-3,-1)]\n",
    "\n",
    "def get_all_week_dates(last_sunday, first_sunday=datetime.date(2020,9,13)):\n",
    "    dt_sun = first_sunday\n",
    "    dts = {}\n",
    "    i = 1\n",
    "    while dt_sun <= last_sunday:\n",
    "        dts[i] = get_week_dates(dt_sun)\n",
    "        dt_sun = dt_sun + datetime.timedelta(days=7)\n",
    "        i += 1\n",
    "    return dts\n",
    "\n",
    "last_sunday = [datetime.date.today() + datetime.timedelta(days=d) for d in range(7) if (datetime.date.today() + datetime.timedelta(days=d)).isoweekday() == 7][-1]\n",
    "all_wk_dts = get_all_week_dates(last_sunday)\n",
    "all_wk_dts[1], all_wk_dts[max(all_wk_dts.keys())]"
   ]
  },
  {
   "cell_type": "code",
   "execution_count": 12,
   "metadata": {},
   "outputs": [
    {
     "data": {
      "text/plain": [
       "16"
      ]
     },
     "execution_count": 12,
     "metadata": {},
     "output_type": "execute_result"
    }
   ],
   "source": [
    "def find_wk_num(dt_str, all_wk_dts):\n",
    "    for k, v in all_wk_dts.items():\n",
    "        if parse_date(dt_str) in v:\n",
    "            return k\n",
    "        \n",
    "find_wk_num(rec['DATA_TIMESTAMP'], all_wk_dts)"
   ]
  },
  {
   "cell_type": "code",
   "execution_count": 13,
   "metadata": {},
   "outputs": [
    {
     "data": {
      "text/plain": [
       "1000"
      ]
     },
     "execution_count": 13,
     "metadata": {},
     "output_type": "execute_result"
    }
   ],
   "source": [
    "len(json.loads(rec['SCORE_DISTRIBUTION']))"
   ]
  },
  {
   "cell_type": "code",
   "execution_count": 14,
   "metadata": {},
   "outputs": [
    {
     "data": {
      "image/png": "[encoded data removed]",
      "text/plain": [
       "<Figure size 432x288 with 1 Axes>"
      ]
     },
     "metadata": {
      "needs_background": "light"
     },
     "output_type": "display_data"
    }
   ],
   "source": [
    "import numpy as np\n",
    "\n",
    "dist = np.array(json.loads(rec['SCORE_DISTRIBUTION']))\n",
    "dist[:, 0]\n",
    "plt.plot(dist[:, 0], dist[:, 1])\n",
    "plt.show()"
   ]
  },
  {
   "cell_type": "code",
   "execution_count": 15,
   "metadata": {},
   "outputs": [
    {
     "data": {
      "text/plain": [
       "(0.029255777854432556, 0.5110167299068644, 0.03796567781993791)"
      ]
     },
     "execution_count": 15,
     "metadata": {},
     "output_type": "execute_result"
    }
   ],
   "source": [
    "def find_nearest_argmin(array, value):\n",
    "    array = np.array(array)\n",
    "    idx = (np.abs(array - value)).argmin()\n",
    "    return idx\n",
    "\n",
    "end_idx = find_nearest_argmin(dist[:, 0], rec['LOW_SCORE'])\n",
    "mid_idx3 = find_nearest_argmin(dist[:, 0], rec['OUTSIDE_PROJECTION'])\n",
    "mid_idx2 = find_nearest_argmin(dist[:, 0], rec['SCORE_PROJECTION'])\n",
    "mid_idx = find_nearest_argmin(dist[:, 0], rec['SIMULATION_PROJECTION'])\n",
    "start_idx = find_nearest_argmin(dist[:, 0], rec['HIGH_SCORE'])\n",
    "dist[:end_idx, 1].sum() / dist[:, 1].sum(), dist[:mid_idx, 1].sum() / dist[:, 1].sum(), dist[start_idx:, 1].sum() / dist[:, 1].sum()"
   ]
  },
  {
   "cell_type": "code",
   "execution_count": 16,
   "metadata": {},
   "outputs": [
    {
     "data": {
      "text/plain": [
       "(0.8233658157985513, 0.6419023801310796)"
      ]
     },
     "execution_count": 16,
     "metadata": {},
     "output_type": "execute_result"
    }
   ],
   "source": [
    "dist[:mid_idx2, 1].sum() / dist[:, 1].sum(), dist[:mid_idx3, 1].sum() / dist[:, 1].sum()"
   ]
  },
  {
   "cell_type": "code",
   "execution_count": 17,
   "metadata": {},
   "outputs": [
    {
     "data": {
      "text/plain": [
       "(8.551, 15.6, 22.649)"
      ]
     },
     "execution_count": 17,
     "metadata": {},
     "output_type": "execute_result"
    }
   ],
   "source": [
    "rec['LOW_SCORE'], rec['SIMULATION_PROJECTION'], rec['HIGH_SCORE']"
   ]
  },
  {
   "cell_type": "markdown",
   "metadata": {},
   "source": [
    "ideas for what to do with the distributions:\n",
    "- to confirm efficacy of the distributions: compute the percentile of each of the estimates according to the distributions and see if it follows a uniform distribution\n",
    "  - compute into buckets of n=2,5,10, and 100 and plot as a histogram\n",
    "  - do a permutation test against samples from a uniform ~ (0, 100) to see if the percentiles come from a uniform distribuion in a way that is statistically significant\n",
    "- to test efficacy of of boom/bust\n",
    "  - copy model calibration analysis: http://ben-tanen.com/projects/2020/01/08/ibm-watson-ff.html"
   ]
  },
  {
   "cell_type": "markdown",
   "metadata": {},
   "source": [
    "Calibration analysis"
   ]
  }
 ],
 "metadata": {
  "kernelspec": {
   "display_name": "Python 3",
   "language": "python",
   "name": "python3"
  },
  "language_info": {
   "codemirror_mode": {
    "name": "ipython",
    "version": 3
   },
   "file_extension": ".py",
   "mimetype": "text/x-python",
   "name": "python",
   "nbconvert_exporter": "python",
   "pygments_lexer": "ipython3",
   "version": "3.7.5"
  }
 },
 "nbformat": 4,
 "nbformat_minor": 4
}
