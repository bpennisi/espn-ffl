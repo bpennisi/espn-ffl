{
 "cells": [
  {
   "cell_type": "markdown",
   "metadata": {},
   "source": [
    "### **WIP, still trying to determine why the CDF estimates don't match ESPN's website. prior to that, I can't confirm I'm getting the same distributions that are made available by ESPN"
   ]
  },
  {
   "cell_type": "markdown",
   "metadata": {},
   "source": [
    "# analyze watson projection data\n",
    "ref http://ben-tanen.com/projects/2020/01/08/ibm-watson-ff.html (ppr)"
   ]
  },
  {
   "cell_type": "code",
   "execution_count": 10,
   "metadata": {},
   "outputs": [
    {
     "data": {
      "text/html": [
       "<div>\n",
       "<style scoped>\n",
       "    .dataframe tbody tr th:only-of-type {\n",
       "        vertical-align: middle;\n",
       "    }\n",
       "\n",
       "    .dataframe tbody tr th {\n",
       "        vertical-align: top;\n",
       "    }\n",
       "\n",
       "    .dataframe thead th {\n",
       "        text-align: right;\n",
       "    }\n",
       "</style>\n",
       "<table border=\"1\" class=\"dataframe\">\n",
       "  <thead>\n",
       "    <tr style=\"text-align: right;\">\n",
       "      <th></th>\n",
       "      <th>player</th>\n",
       "      <th>week</th>\n",
       "      <th>actual_score</th>\n",
       "      <th>proj_score</th>\n",
       "      <th>boom_pct</th>\n",
       "      <th>boom_pts</th>\n",
       "      <th>bust_pct</th>\n",
       "      <th>bust_pts</th>\n",
       "      <th>mid_pct</th>\n",
       "    </tr>\n",
       "  </thead>\n",
       "  <tbody>\n",
       "    <tr>\n",
       "      <th>0</th>\n",
       "      <td>49ers D/ST</td>\n",
       "      <td>Week 01 vs Bucs</td>\n",
       "      <td>28.0</td>\n",
       "      <td>6.3</td>\n",
       "      <td>0.24</td>\n",
       "      <td>12.6</td>\n",
       "      <td>0.10</td>\n",
       "      <td>4.3</td>\n",
       "      <td>0.66</td>\n",
       "    </tr>\n",
       "    <tr>\n",
       "      <th>1</th>\n",
       "      <td>49ers D/ST</td>\n",
       "      <td>Week 02 vs Bengals</td>\n",
       "      <td>7.0</td>\n",
       "      <td>6.1</td>\n",
       "      <td>0.23</td>\n",
       "      <td>15.3</td>\n",
       "      <td>0.08</td>\n",
       "      <td>4.1</td>\n",
       "      <td>0.69</td>\n",
       "    </tr>\n",
       "    <tr>\n",
       "      <th>2</th>\n",
       "      <td>49ers D/ST</td>\n",
       "      <td>Week 03 vs Steelers</td>\n",
       "      <td>8.0</td>\n",
       "      <td>7.4</td>\n",
       "      <td>0.23</td>\n",
       "      <td>13.0</td>\n",
       "      <td>0.19</td>\n",
       "      <td>4.3</td>\n",
       "      <td>0.58</td>\n",
       "    </tr>\n",
       "    <tr>\n",
       "      <th>3</th>\n",
       "      <td>49ers D/ST</td>\n",
       "      <td>Week 05 vs Browns</td>\n",
       "      <td>19.0</td>\n",
       "      <td>6.0</td>\n",
       "      <td>0.14</td>\n",
       "      <td>14.7</td>\n",
       "      <td>0.21</td>\n",
       "      <td>3.7</td>\n",
       "      <td>0.65</td>\n",
       "    </tr>\n",
       "    <tr>\n",
       "      <th>4</th>\n",
       "      <td>49ers D/ST</td>\n",
       "      <td>Week 06 vs Rams</td>\n",
       "      <td>12.0</td>\n",
       "      <td>6.0</td>\n",
       "      <td>0.23</td>\n",
       "      <td>14.6</td>\n",
       "      <td>0.14</td>\n",
       "      <td>4.1</td>\n",
       "      <td>0.63</td>\n",
       "    </tr>\n",
       "  </tbody>\n",
       "</table>\n",
       "</div>"
      ],
      "text/plain": [
       "       player                 week  actual_score  proj_score  boom_pct  \\\n",
       "0  49ers D/ST      Week 01 vs Bucs          28.0         6.3      0.24   \n",
       "1  49ers D/ST   Week 02 vs Bengals           7.0         6.1      0.23   \n",
       "2  49ers D/ST  Week 03 vs Steelers           8.0         7.4      0.23   \n",
       "3  49ers D/ST    Week 05 vs Browns          19.0         6.0      0.14   \n",
       "4  49ers D/ST      Week 06 vs Rams          12.0         6.0      0.23   \n",
       "\n",
       "   boom_pts  bust_pct  bust_pts  mid_pct  \n",
       "0      12.6      0.10       4.3     0.66  \n",
       "1      15.3      0.08       4.1     0.69  \n",
       "2      13.0      0.19       4.3     0.58  \n",
       "3      14.7      0.21       3.7     0.65  \n",
       "4      14.6      0.14       4.1     0.63  "
      ]
     },
     "execution_count": 10,
     "metadata": {},
     "output_type": "execute_result"
    }
   ],
   "source": [
    "import pandas as pd\n",
    "import matplotlib.pyplot as plt\n",
    "import json\n",
    "import numpy as np\n",
    "w = pd.read_csv('ibm-watson-ff-projections-2019.csv')\n",
    "w.head()"
   ]
  },
  {
   "cell_type": "code",
   "execution_count": 11,
   "metadata": {},
   "outputs": [
    {
     "data": {
      "image/png": "[encoded data removed]",
      "text/plain": [
       "<Figure size 432x288 with 1 Axes>"
      ]
     },
     "metadata": {
      "needs_background": "light"
     },
     "output_type": "display_data"
    }
   ],
   "source": [
    "(1 - w.boom_pct).hist()\n",
    "plt.title('Boom Pctl')\n",
    "plt.show()"
   ]
  },
  {
   "cell_type": "code",
   "execution_count": 12,
   "metadata": {},
   "outputs": [
    {
     "data": {
      "image/png": "[encoded data removed]",
      "text/plain": [
       "<Figure size 432x288 with 1 Axes>"
      ]
     },
     "metadata": {
      "needs_background": "light"
     },
     "output_type": "display_data"
    }
   ],
   "source": [
    "w.bust_pct.hist()\n",
    "plt.title('Bust Pctl')\n",
    "plt.show()"
   ]
  },
  {
   "cell_type": "code",
   "execution_count": 13,
   "metadata": {},
   "outputs": [
    {
     "data": {
      "image/png": "[encoded data removed]",
      "text/plain": [
       "<Figure size 432x288 with 1 Axes>"
      ]
     },
     "metadata": {
      "needs_background": "light"
     },
     "output_type": "display_data"
    }
   ],
   "source": [
    "w.mid_pct.hist()\n",
    "plt.title('Mid Pctl')\n",
    "plt.show()"
   ]
  },
  {
   "cell_type": "code",
   "execution_count": 14,
   "metadata": {},
   "outputs": [],
   "source": [
    "import requests"
   ]
  },
  {
   "cell_type": "markdown",
   "metadata": {},
   "source": [
    "here is a link to access josh jacob's watson distribution data. let's test it out to make sure the distribution looks correct!\n",
    "https://watsonfantasyfootball.espn.com/espnpartner/dallas/players/players_4047365_ESPNFantasyFootball_2020.json\n",
    "https://watsonfantasyfootball.espn.com/espnpartner/dallas/projections/projections_4047365_ESPNFantasyFootball_2020.json"
   ]
  },
  {
   "cell_type": "code",
   "execution_count": 99,
   "metadata": {},
   "outputs": [
    {
     "data": {
      "text/plain": [
       "85"
      ]
     },
     "execution_count": 99,
     "metadata": {},
     "output_type": "execute_result"
    }
   ],
   "source": [
    "\n",
    "pid = 16799\n",
    "resp = json.loads(requests.get('https://watsonfantasyfootball.espn.com/espnpartner/dallas/projections/projections_{}_ESPNFantasyFootball_2020.json'.format(pid)).text)\n",
    "len(resp)"
   ]
  },
  {
   "cell_type": "code",
   "execution_count": 87,
   "metadata": {},
   "outputs": [],
   "source": [
    "pid = 16799\n",
    "hold = json.loads(requests.get('https://watsonfantasyfootball.espn.com/espnpartner/dallas/classifiers/classifiers_{}_ESPNFantasyFootball_2020.json'.format(pid)).text)"
   ]
  },
  {
   "cell_type": "code",
   "execution_count": 98,
   "metadata": {},
   "outputs": [
    {
     "data": {
      "text/html": [
       "<div>\n",
       "<style scoped>\n",
       "    .dataframe tbody tr th:only-of-type {\n",
       "        vertical-align: middle;\n",
       "    }\n",
       "\n",
       "    .dataframe tbody tr th {\n",
       "        vertical-align: top;\n",
       "    }\n",
       "\n",
       "    .dataframe thead tr th {\n",
       "        text-align: left;\n",
       "    }\n",
       "\n",
       "    .dataframe thead tr:last-of-type th {\n",
       "        text-align: right;\n",
       "    }\n",
       "</style>\n",
       "<table border=\"1\" class=\"dataframe\">\n",
       "  <thead>\n",
       "    <tr>\n",
       "      <th></th>\n",
       "      <th colspan=\"4\" halign=\"left\">NORMALIZED_RESULT</th>\n",
       "    </tr>\n",
       "    <tr>\n",
       "      <th>MODEL_TYPE</th>\n",
       "      <th>breakout_classifier</th>\n",
       "      <th>bust_classifier</th>\n",
       "      <th>play_with_injury_classifier</th>\n",
       "      <th>play_without_injury_classifier</th>\n",
       "    </tr>\n",
       "    <tr>\n",
       "      <th>DATA_TIMESTAMP</th>\n",
       "      <th></th>\n",
       "      <th></th>\n",
       "      <th></th>\n",
       "      <th></th>\n",
       "    </tr>\n",
       "  </thead>\n",
       "  <tbody>\n",
       "    <tr>\n",
       "      <th>2020-09-18 00:00:00.000000</th>\n",
       "      <td>0.157850</td>\n",
       "      <td>0.132326</td>\n",
       "      <td>0.744804</td>\n",
       "      <td>0.831333</td>\n",
       "    </tr>\n",
       "    <tr>\n",
       "      <th>2020-09-19 00:00:00.000000</th>\n",
       "      <td>0.142968</td>\n",
       "      <td>0.188117</td>\n",
       "      <td>0.551395</td>\n",
       "      <td>0.843748</td>\n",
       "    </tr>\n",
       "    <tr>\n",
       "      <th>2020-09-20 00:00:00.000000</th>\n",
       "      <td>0.104149</td>\n",
       "      <td>0.173155</td>\n",
       "      <td>0.774194</td>\n",
       "      <td>0.831333</td>\n",
       "    </tr>\n",
       "    <tr>\n",
       "      <th>2020-09-21 00:00:00.000000</th>\n",
       "      <td>0.082986</td>\n",
       "      <td>0.186544</td>\n",
       "      <td>0.719128</td>\n",
       "      <td>0.831333</td>\n",
       "    </tr>\n",
       "    <tr>\n",
       "      <th>2020-09-22 00:00:00.000000</th>\n",
       "      <td>0.181582</td>\n",
       "      <td>0.078906</td>\n",
       "      <td>0.759622</td>\n",
       "      <td>0.831333</td>\n",
       "    </tr>\n",
       "    <tr>\n",
       "      <th>...</th>\n",
       "      <td>...</td>\n",
       "      <td>...</td>\n",
       "      <td>...</td>\n",
       "      <td>...</td>\n",
       "    </tr>\n",
       "    <tr>\n",
       "      <th>2020-12-10 00:00:00.000000</th>\n",
       "      <td>0.273723</td>\n",
       "      <td>0.290000</td>\n",
       "      <td>0.704222</td>\n",
       "      <td>0.897348</td>\n",
       "    </tr>\n",
       "    <tr>\n",
       "      <th>2020-12-11 00:00:00.000000</th>\n",
       "      <td>0.250832</td>\n",
       "      <td>0.275316</td>\n",
       "      <td>0.741664</td>\n",
       "      <td>0.870007</td>\n",
       "    </tr>\n",
       "    <tr>\n",
       "      <th>2020-12-12 00:00:00.000000</th>\n",
       "      <td>0.269758</td>\n",
       "      <td>0.275457</td>\n",
       "      <td>0.654364</td>\n",
       "      <td>0.833433</td>\n",
       "    </tr>\n",
       "    <tr>\n",
       "      <th>2020-12-15 00:00:00.000000</th>\n",
       "      <td>0.267362</td>\n",
       "      <td>0.252732</td>\n",
       "      <td>0.799043</td>\n",
       "      <td>0.963672</td>\n",
       "    </tr>\n",
       "    <tr>\n",
       "      <th>2020-12-16 00:00:00.000000</th>\n",
       "      <td>0.260396</td>\n",
       "      <td>0.265081</td>\n",
       "      <td>0.702949</td>\n",
       "      <td>0.901550</td>\n",
       "    </tr>\n",
       "  </tbody>\n",
       "</table>\n",
       "<p>85 rows × 4 columns</p>\n",
       "</div>"
      ],
      "text/plain": [
       "                             NORMALIZED_RESULT                  \\\n",
       "MODEL_TYPE                 breakout_classifier bust_classifier   \n",
       "DATA_TIMESTAMP                                                   \n",
       "2020-09-18 00:00:00.000000            0.157850        0.132326   \n",
       "2020-09-19 00:00:00.000000            0.142968        0.188117   \n",
       "2020-09-20 00:00:00.000000            0.104149        0.173155   \n",
       "2020-09-21 00:00:00.000000            0.082986        0.186544   \n",
       "2020-09-22 00:00:00.000000            0.181582        0.078906   \n",
       "...                                        ...             ...   \n",
       "2020-12-10 00:00:00.000000            0.273723        0.290000   \n",
       "2020-12-11 00:00:00.000000            0.250832        0.275316   \n",
       "2020-12-12 00:00:00.000000            0.269758        0.275457   \n",
       "2020-12-15 00:00:00.000000            0.267362        0.252732   \n",
       "2020-12-16 00:00:00.000000            0.260396        0.265081   \n",
       "\n",
       "                                                        \\\n",
       "MODEL_TYPE                 play_with_injury_classifier   \n",
       "DATA_TIMESTAMP                                           \n",
       "2020-09-18 00:00:00.000000                    0.744804   \n",
       "2020-09-19 00:00:00.000000                    0.551395   \n",
       "2020-09-20 00:00:00.000000                    0.774194   \n",
       "2020-09-21 00:00:00.000000                    0.719128   \n",
       "2020-09-22 00:00:00.000000                    0.759622   \n",
       "...                                                ...   \n",
       "2020-12-10 00:00:00.000000                    0.704222   \n",
       "2020-12-11 00:00:00.000000                    0.741664   \n",
       "2020-12-12 00:00:00.000000                    0.654364   \n",
       "2020-12-15 00:00:00.000000                    0.799043   \n",
       "2020-12-16 00:00:00.000000                    0.702949   \n",
       "\n",
       "                                                           \n",
       "MODEL_TYPE                 play_without_injury_classifier  \n",
       "DATA_TIMESTAMP                                             \n",
       "2020-09-18 00:00:00.000000                       0.831333  \n",
       "2020-09-19 00:00:00.000000                       0.843748  \n",
       "2020-09-20 00:00:00.000000                       0.831333  \n",
       "2020-09-21 00:00:00.000000                       0.831333  \n",
       "2020-09-22 00:00:00.000000                       0.831333  \n",
       "...                                                   ...  \n",
       "2020-12-10 00:00:00.000000                       0.897348  \n",
       "2020-12-11 00:00:00.000000                       0.870007  \n",
       "2020-12-12 00:00:00.000000                       0.833433  \n",
       "2020-12-15 00:00:00.000000                       0.963672  \n",
       "2020-12-16 00:00:00.000000                       0.901550  \n",
       "\n",
       "[85 rows x 4 columns]"
      ]
     },
     "execution_count": 98,
     "metadata": {},
     "output_type": "execute_result"
    }
   ],
   "source": [
    "pd.DataFrame(hold).loc[:, ['DATA_TIMESTAMP', 'MODEL_TYPE', 'NORMALIZED_RESULT']].set_index('DATA_TIMESTAMP').pivot(columns=['MODEL_TYPE'])"
   ]
  },
  {
   "cell_type": "code",
   "execution_count": 100,
   "metadata": {},
   "outputs": [],
   "source": [
    "rec = resp[-1]\n",
    "#rec = x[-1]"
   ]
  },
  {
   "cell_type": "code",
   "execution_count": 101,
   "metadata": {},
   "outputs": [
    {
     "data": {
      "text/plain": [
       "datetime.date(2020, 12, 16)"
      ]
     },
     "execution_count": 101,
     "metadata": {},
     "output_type": "execute_result"
    }
   ],
   "source": [
    "import datetime\n",
    "\n",
    "def parse_date(data_timestamp):\n",
    "    return datetime.datetime.strptime(data_timestamp[:10], '%Y-%m-%d').date()\n",
    "\n",
    "parse_date(rec['DATA_TIMESTAMP'])"
   ]
  },
  {
   "cell_type": "code",
   "execution_count": 102,
   "metadata": {},
   "outputs": [
    {
     "data": {
      "text/plain": [
       "([datetime.date(2020, 9, 9),\n",
       "  datetime.date(2020, 9, 10),\n",
       "  datetime.date(2020, 9, 11),\n",
       "  datetime.date(2020, 9, 12),\n",
       "  datetime.date(2020, 9, 13),\n",
       "  datetime.date(2020, 9, 14),\n",
       "  datetime.date(2020, 9, 15)],\n",
       " [datetime.date(2020, 12, 16),\n",
       "  datetime.date(2020, 12, 17),\n",
       "  datetime.date(2020, 12, 18),\n",
       "  datetime.date(2020, 12, 19),\n",
       "  datetime.date(2020, 12, 20),\n",
       "  datetime.date(2020, 12, 21),\n",
       "  datetime.date(2020, 12, 22)])"
      ]
     },
     "execution_count": 102,
     "metadata": {},
     "output_type": "execute_result"
    }
   ],
   "source": [
    "def get_week_dates(week_dt):\n",
    "    return [week_dt + datetime.timedelta(days=-d) for d in range(4,-3,-1)]\n",
    "\n",
    "def get_all_week_dates(last_sunday, first_sunday=datetime.date(2020,9,13)):\n",
    "    dt_sun = first_sunday\n",
    "    dts = {}\n",
    "    i = 1\n",
    "    while dt_sun <= last_sunday:\n",
    "        dts[i] = get_week_dates(dt_sun)\n",
    "        dt_sun = dt_sun + datetime.timedelta(days=7)\n",
    "        i += 1\n",
    "    return dts\n",
    "\n",
    "last_sunday = [datetime.date.today() + datetime.timedelta(days=d) for d in range(7) if (datetime.date.today() + datetime.timedelta(days=d)).isoweekday() == 7][-1]\n",
    "all_wk_dts = get_all_week_dates(last_sunday)\n",
    "all_wk_dts[1], all_wk_dts[max(all_wk_dts.keys())]"
   ]
  },
  {
   "cell_type": "code",
   "execution_count": 103,
   "metadata": {},
   "outputs": [
    {
     "data": {
      "text/plain": [
       "15"
      ]
     },
     "execution_count": 103,
     "metadata": {},
     "output_type": "execute_result"
    }
   ],
   "source": [
    "def find_wk_num(dt_str, all_wk_dts):\n",
    "    for k, v in all_wk_dts.items():\n",
    "        if parse_date(dt_str) in v:\n",
    "            return k\n",
    "        \n",
    "find_wk_num(rec['DATA_TIMESTAMP'], all_wk_dts)"
   ]
  },
  {
   "cell_type": "code",
   "execution_count": 104,
   "metadata": {},
   "outputs": [
    {
     "data": {
      "text/plain": [
       "1000"
      ]
     },
     "execution_count": 104,
     "metadata": {},
     "output_type": "execute_result"
    }
   ],
   "source": [
    "len(json.loads(rec['SCORE_DISTRIBUTION']))"
   ]
  },
  {
   "cell_type": "code",
   "execution_count": 105,
   "metadata": {},
   "outputs": [
    {
     "data": {
      "image/png": "[encoded data removed]",
      "text/plain": [
       "<Figure size 432x288 with 1 Axes>"
      ]
     },
     "metadata": {
      "needs_background": "light"
     },
     "output_type": "display_data"
    }
   ],
   "source": [
    "import numpy as np\n",
    "\n",
    "dist = np.array(json.loads(rec['SCORE_DISTRIBUTION']))\n",
    "dist[:, 0]\n",
    "plt.plot(dist[:, 0], dist[:, 1])\n",
    "plt.show()"
   ]
  },
  {
   "cell_type": "code",
   "execution_count": 117,
   "metadata": {},
   "outputs": [
    {
     "data": {
      "text/plain": [
       "(0.06350772542775772, 0.4898975175475972, 0.07032493889175431)"
      ]
     },
     "execution_count": 117,
     "metadata": {},
     "output_type": "execute_result"
    }
   ],
   "source": [
    "def find_nearest_argmin(array, value):\n",
    "    array = np.array(array)\n",
    "    idx = (np.abs(array - value)).argmin()\n",
    "    return idx\n",
    "\n",
    "end_idx = find_nearest_argmin(dist[:, 0], rec['LOW_SCORE'])\n",
    "mid_idx3 = find_nearest_argmin(dist[:, 0], rec['OUTSIDE_PROJECTION'])\n",
    "mid_idx2 = find_nearest_argmin(dist[:, 0], rec['SCORE_PROJECTION'])\n",
    "mid_idx = find_nearest_argmin(dist[:, 0], rec['SIMULATION_PROJECTION'])\n",
    "start_idx = find_nearest_argmin(dist[:, 0], rec['HIGH_SCORE'])\n",
    "dist[:end_idx, 1].sum() / dist[:, 1].sum(), dist[:mid_idx, 1].sum() / dist[:, 1].sum(), dist[start_idx:, 1].sum() / dist[:, 1].sum()"
   ]
  },
  {
   "cell_type": "code",
   "execution_count": 118,
   "metadata": {},
   "outputs": [
    {
     "data": {
      "text/plain": [
       "(0.7349135514542641, 0.6007220864261206)"
      ]
     },
     "execution_count": 118,
     "metadata": {},
     "output_type": "execute_result"
    }
   ],
   "source": [
    "dist[:mid_idx2, 1].sum() / dist[:, 1].sum(), dist[:mid_idx3, 1].sum() / dist[:, 1].sum()"
   ]
  },
  {
   "cell_type": "code",
   "execution_count": 107,
   "metadata": {},
   "outputs": [
    {
     "data": {
      "text/plain": [
       "(8.173, 14.822, 21.472)"
      ]
     },
     "execution_count": 107,
     "metadata": {},
     "output_type": "execute_result"
    }
   ],
   "source": [
    "rec['LOW_SCORE'], rec['SIMULATION_PROJECTION'], rec['HIGH_SCORE']"
   ]
  },
  {
   "cell_type": "markdown",
   "metadata": {},
   "source": [
    "ideas for what to do with the distributions:\n",
    "- to confirm efficacy of the distributions: compute the percentile of each of the estimates according to the distributions and see if it follows a uniform distribution\n",
    "  - compute into buckets of n=2,5,10, and 100 and plot as a histogram\n",
    "  - do a permutation test against samples from a uniform ~ (0, 100) to see if the percentiles come from a uniform distribuion in a way that is statistically significant\n",
    "- to test efficacy of of boom/bust\n",
    "  - copy model calibration analysis: http://ben-tanen.com/projects/2020/01/08/ibm-watson-ff.html"
   ]
  }
 ],
 "metadata": {
  "kernelspec": {
   "display_name": "Python 3",
   "language": "python",
   "name": "python3"
  },
  "language_info": {
   "codemirror_mode": {
    "name": "ipython",
    "version": 3
   },
   "file_extension": ".py",
   "mimetype": "text/x-python",
   "name": "python",
   "nbconvert_exporter": "python",
   "pygments_lexer": "ipython3",
   "version": "3.7.5"
  }
 },
 "nbformat": 4,
 "nbformat_minor": 4
}
