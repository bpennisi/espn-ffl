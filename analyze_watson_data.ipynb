{
 "cells": [
  {
   "cell_type": "markdown",
   "metadata": {},
   "source": [
    "### **WIP, still trying to determine why the CDF estimates don't match ESPN's website. prior to that, I can't confirm I'm getting the same distributions that are made available by ESPN"
   ]
  },
  {
   "cell_type": "markdown",
   "metadata": {},
   "source": [
    "# analyze watson projection data\n",
    "ref http://ben-tanen.com/projects/2020/01/08/ibm-watson-ff.html (ppr)"
   ]
  },
  {
   "cell_type": "code",
   "execution_count": 10,
   "metadata": {},
   "outputs": [
    {
     "data": {
      "text/html": [
       "<div>\n",
       "<style scoped>\n",
       "    .dataframe tbody tr th:only-of-type {\n",
       "        vertical-align: middle;\n",
       "    }\n",
       "\n",
       "    .dataframe tbody tr th {\n",
       "        vertical-align: top;\n",
       "    }\n",
       "\n",
       "    .dataframe thead th {\n",
       "        text-align: right;\n",
       "    }\n",
       "</style>\n",
       "<table border=\"1\" class=\"dataframe\">\n",
       "  <thead>\n",
       "    <tr style=\"text-align: right;\">\n",
       "      <th></th>\n",
       "      <th>player</th>\n",
       "      <th>week</th>\n",
       "      <th>actual_score</th>\n",
       "      <th>proj_score</th>\n",
       "      <th>boom_pct</th>\n",
       "      <th>boom_pts</th>\n",
       "      <th>bust_pct</th>\n",
       "      <th>bust_pts</th>\n",
       "      <th>mid_pct</th>\n",
       "    </tr>\n",
       "  </thead>\n",
       "  <tbody>\n",
       "    <tr>\n",
       "      <th>0</th>\n",
       "      <td>49ers D/ST</td>\n",
       "      <td>Week 01 vs Bucs</td>\n",
       "      <td>28.0</td>\n",
       "      <td>6.3</td>\n",
       "      <td>0.24</td>\n",
       "      <td>12.6</td>\n",
       "      <td>0.10</td>\n",
       "      <td>4.3</td>\n",
       "      <td>0.66</td>\n",
       "    </tr>\n",
       "    <tr>\n",
       "      <th>1</th>\n",
       "      <td>49ers D/ST</td>\n",
       "      <td>Week 02 vs Bengals</td>\n",
       "      <td>7.0</td>\n",
       "      <td>6.1</td>\n",
       "      <td>0.23</td>\n",
       "      <td>15.3</td>\n",
       "      <td>0.08</td>\n",
       "      <td>4.1</td>\n",
       "      <td>0.69</td>\n",
       "    </tr>\n",
       "    <tr>\n",
       "      <th>2</th>\n",
       "      <td>49ers D/ST</td>\n",
       "      <td>Week 03 vs Steelers</td>\n",
       "      <td>8.0</td>\n",
       "      <td>7.4</td>\n",
       "      <td>0.23</td>\n",
       "      <td>13.0</td>\n",
       "      <td>0.19</td>\n",
       "      <td>4.3</td>\n",
       "      <td>0.58</td>\n",
       "    </tr>\n",
       "    <tr>\n",
       "      <th>3</th>\n",
       "      <td>49ers D/ST</td>\n",
       "      <td>Week 05 vs Browns</td>\n",
       "      <td>19.0</td>\n",
       "      <td>6.0</td>\n",
       "      <td>0.14</td>\n",
       "      <td>14.7</td>\n",
       "      <td>0.21</td>\n",
       "      <td>3.7</td>\n",
       "      <td>0.65</td>\n",
       "    </tr>\n",
       "    <tr>\n",
       "      <th>4</th>\n",
       "      <td>49ers D/ST</td>\n",
       "      <td>Week 06 vs Rams</td>\n",
       "      <td>12.0</td>\n",
       "      <td>6.0</td>\n",
       "      <td>0.23</td>\n",
       "      <td>14.6</td>\n",
       "      <td>0.14</td>\n",
       "      <td>4.1</td>\n",
       "      <td>0.63</td>\n",
       "    </tr>\n",
       "  </tbody>\n",
       "</table>\n",
       "</div>"
      ],
      "text/plain": [
       "       player                 week  actual_score  proj_score  boom_pct  \\\n",
       "0  49ers D/ST      Week 01 vs Bucs          28.0         6.3      0.24   \n",
       "1  49ers D/ST   Week 02 vs Bengals           7.0         6.1      0.23   \n",
       "2  49ers D/ST  Week 03 vs Steelers           8.0         7.4      0.23   \n",
       "3  49ers D/ST    Week 05 vs Browns          19.0         6.0      0.14   \n",
       "4  49ers D/ST      Week 06 vs Rams          12.0         6.0      0.23   \n",
       "\n",
       "   boom_pts  bust_pct  bust_pts  mid_pct  \n",
       "0      12.6      0.10       4.3     0.66  \n",
       "1      15.3      0.08       4.1     0.69  \n",
       "2      13.0      0.19       4.3     0.58  \n",
       "3      14.7      0.21       3.7     0.65  \n",
       "4      14.6      0.14       4.1     0.63  "
      ]
     },
     "execution_count": 10,
     "metadata": {},
     "output_type": "execute_result"
    }
   ],
   "source": [
    "import pandas as pd\n",
    "import matplotlib.pyplot as plt\n",
    "import json\n",
    "import numpy as np\n",
    "w = pd.read_csv('ibm-watson-ff-projections-2019.csv')\n",
    "w.head()"
   ]
  },
  {
   "cell_type": "code",
   "execution_count": 11,
   "metadata": {},
   "outputs": [
    {
     "data": {
      "image/png": "[encoded data removed]",
      "text/plain": [
       "<Figure size 432x288 with 1 Axes>"
      ]
     },
     "metadata": {
      "needs_background": "light"
     },
     "output_type": "display_data"
    }
   ],
   "source": [
    "(1 - w.boom_pct).hist()\n",
    "plt.title('Boom Pctl')\n",
    "plt.show()"
   ]
  },
  {
   "cell_type": "code",
   "execution_count": 12,
   "metadata": {},
   "outputs": [
    {
     "data": {
      "image/png": "[encoded data removed]",
      "text/plain": [
       "<Figure size 432x288 with 1 Axes>"
      ]
     },
     "metadata": {
      "needs_background": "light"
     },
     "output_type": "display_data"
    }
   ],
   "source": [
    "w.bust_pct.hist()\n",
    "plt.title('Bust Pctl')\n",
    "plt.show()"
   ]
  },
  {
   "cell_type": "code",
   "execution_count": 13,
   "metadata": {},
   "outputs": [
    {
     "data": {
      "image/png": "[encoded data removed]",
      "text/plain": [
       "<Figure size 432x288 with 1 Axes>"
      ]
     },
     "metadata": {
      "needs_background": "light"
     },
     "output_type": "display_data"
    }
   ],
   "source": [
    "w.mid_pct.hist()\n",
    "plt.title('Mid Pctl')\n",
    "plt.show()"
   ]
  },
  {
   "cell_type": "code",
   "execution_count": 14,
   "metadata": {},
   "outputs": [],
   "source": [
    "import requests"
   ]
  },
  {
   "cell_type": "markdown",
   "metadata": {},
   "source": [
    "here is a link to access josh jacob's watson distribution data. let's test it out to make sure the distribution looks correct!\n",
    "https://watsonfantasyfootball.espn.com/espnpartner/dallas/players/players_4047365_ESPNFantasyFootball_2020.json\n",
    "https://watsonfantasyfootball.espn.com/espnpartner/dallas/projections/projections_4047365_ESPNFantasyFootball_2020.json"
   ]
  },
  {
   "cell_type": "code",
   "execution_count": 15,
   "metadata": {},
   "outputs": [
    {
     "data": {
      "text/plain": [
       "79"
      ]
     },
     "execution_count": 15,
     "metadata": {},
     "output_type": "execute_result"
    }
   ],
   "source": [
    "\n",
    "pid = 3916387\n",
    "resp = json.loads(requests.get('https://watsonfantasyfootball.espn.com/espnpartner/dallas/projections/projections_{}_ESPNFantasyFootball_2020.json'.format(pid)).text)\n",
    "len(resp)"
   ]
  },
  {
   "cell_type": "code",
   "execution_count": 17,
   "metadata": {},
   "outputs": [],
   "source": [
    "rec = resp[-1]"
   ]
  },
  {
   "cell_type": "code",
   "execution_count": 18,
   "metadata": {},
   "outputs": [
    {
     "data": {
      "text/plain": [
       "datetime.date(2020, 12, 16)"
      ]
     },
     "execution_count": 18,
     "metadata": {},
     "output_type": "execute_result"
    }
   ],
   "source": [
    "import datetime\n",
    "\n",
    "def parse_date(data_timestamp):\n",
    "    return datetime.datetime.strptime(data_timestamp[:10], '%Y-%m-%d').date()\n",
    "\n",
    "parse_date(rec['DATA_TIMESTAMP'])"
   ]
  },
  {
   "cell_type": "code",
   "execution_count": 19,
   "metadata": {},
   "outputs": [
    {
     "data": {
      "text/plain": [
       "([datetime.date(2020, 9, 10),\n",
       "  datetime.date(2020, 9, 11),\n",
       "  datetime.date(2020, 9, 12),\n",
       "  datetime.date(2020, 9, 13),\n",
       "  datetime.date(2020, 9, 14),\n",
       "  datetime.date(2020, 9, 15)],\n",
       " [datetime.date(2020, 12, 10),\n",
       "  datetime.date(2020, 12, 11),\n",
       "  datetime.date(2020, 12, 12),\n",
       "  datetime.date(2020, 12, 13),\n",
       "  datetime.date(2020, 12, 14),\n",
       "  datetime.date(2020, 12, 15)])"
      ]
     },
     "execution_count": 19,
     "metadata": {},
     "output_type": "execute_result"
    }
   ],
   "source": [
    "def get_week_dates(week_dt):\n",
    "    return [week_dt + datetime.timedelta(days=-d) for d in range(3,-3,-1)]\n",
    "\n",
    "def get_all_week_dates(last_sunday, first_sunday=datetime.date(2020,9,13)):\n",
    "    dt = first_sunday\n",
    "    dts = {}\n",
    "    i = 1\n",
    "    while dt <= last_sunday:\n",
    "        dts[i] = get_week_dates(dt)\n",
    "        dt = dt + datetime.timedelta(days=7)\n",
    "        i += 1\n",
    "    return dts\n",
    "\n",
    "last_sunday = [datetime.date.today() + datetime.timedelta(days=-d) for d in range(7) if (datetime.date.today() + datetime.timedelta(days=-d)).isoweekday() == 7][-1]\n",
    "all_wk_dts = get_all_week_dates(last_sunday)\n",
    "all_wk_dts[1], all_wk_dts[14]"
   ]
  },
  {
   "cell_type": "code",
   "execution_count": 20,
   "metadata": {},
   "outputs": [],
   "source": [
    "def find_wk_num(dt_str, all_wk_dts):\n",
    "    for k, v in all_wk_dts.items():\n",
    "        if parse_date(dt_str) in v:\n",
    "            return k\n",
    "        \n",
    "find_wk_num(rec['DATA_TIMESTAMP'], all_wk_dts)"
   ]
  },
  {
   "cell_type": "code",
   "execution_count": 21,
   "metadata": {},
   "outputs": [
    {
     "data": {
      "text/plain": [
       "1000"
      ]
     },
     "execution_count": 21,
     "metadata": {},
     "output_type": "execute_result"
    }
   ],
   "source": [
    "len(json.loads(rec['SCORE_DISTRIBUTION']))"
   ]
  },
  {
   "cell_type": "code",
   "execution_count": 22,
   "metadata": {},
   "outputs": [
    {
     "data": {
      "image/png": "[encoded data removed]",
      "text/plain": [
       "<Figure size 432x288 with 1 Axes>"
      ]
     },
     "metadata": {
      "needs_background": "light"
     },
     "output_type": "display_data"
    }
   ],
   "source": [
    "import numpy as np\n",
    "\n",
    "dist = np.array(json.loads(rec['SCORE_DISTRIBUTION']))\n",
    "dist[:, 0]\n",
    "plt.plot(dist[:, 0], dist[:, 1])\n",
    "plt.show()"
   ]
  },
  {
   "cell_type": "code",
   "execution_count": 23,
   "metadata": {},
   "outputs": [
    {
     "data": {
      "text/plain": [
       "(0.06929848820058995, 0.4593703908554572, 0.0838633849557522)"
      ]
     },
     "execution_count": 23,
     "metadata": {},
     "output_type": "execute_result"
    }
   ],
   "source": [
    "def find_nearest_argmin(array, value):\n",
    "    array = np.array(array)\n",
    "    idx = (np.abs(array - value)).argmin()\n",
    "    return idx\n",
    "\n",
    "end_idx = find_nearest_argmin(dist[:, 0], rec['LOW_SCORE'])\n",
    "mid_idx = find_nearest_argmin(dist[:, 0], rec['SIMULATION_PROJECTION'])\n",
    "start_idx = find_nearest_argmin(dist[:, 0], rec['HIGH_SCORE'])\n",
    "dist[:end_idx, 1].sum() / dist[:, 1].sum(), dist[:mid_idx, 1].sum() / dist[:, 1].sum(), dist[start_idx:, 1].sum() / dist[:, 1].sum()"
   ]
  },
  {
   "cell_type": "code",
   "execution_count": 24,
   "metadata": {},
   "outputs": [
    {
     "data": {
      "text/plain": [
       "43.39200000000001"
      ]
     },
     "execution_count": 24,
     "metadata": {},
     "output_type": "execute_result"
    }
   ],
   "source": [
    "dist[:, 1].sum()"
   ]
  },
  {
   "cell_type": "code",
   "execution_count": 25,
   "metadata": {
    "scrolled": true
   },
   "outputs": [
    {
     "data": {
      "text/plain": [
       "{'PLAYERID': '3916387',\n",
       " 'EVENT_NAME': 'ESPNFantasyFootball',\n",
       " 'EVENT_YEAR': '2020',\n",
       " 'DATA_TIMESTAMP': '2020-12-16 00:00:00.000000',\n",
       " 'MODEL_NAME': 'qb_point.pkl',\n",
       " 'MODEL_TYPE': 'qb_point_projection',\n",
       " 'EXECUTION_TIMESTAMP': '2020-12-15 10:47:01.000000',\n",
       " 'POLYNOMIAL_DEGREE': 1,\n",
       " 'SCORE_PROJECTION': 19.631184393210724,\n",
       " 'SCORE_DISTRIBUTION': '[[-2.8158699631825534, 0.0], [-1.16107137145492, 0.001], [-1.0242811512209613, 0.001], [0.3343753116127175, 0.002], [1.0059537976933406, 0.003], [1.1438739559172042, 0.003], [1.1624991148195818, 0.003], [1.2582655718510676, 0.003], [1.2880394711462184, 0.003], [1.3310958817734146, 0.003], [1.553320502857252, 0.003], [1.9548509186941505, 0.004], [2.2514578277897623, 0.004], [2.715962384087332, 0.005], [2.834325557833818, 0.005], [2.9780289361680445, 0.005], [3.3197703835794083, 0.006], [3.4007983822663572, 0.006], [3.412930916619299, 0.006], [3.4224281714412896, 0.006], [3.459539995177453, 0.006], [3.480421236311111, 0.006], [3.65094986744662, 0.007], [3.765334988624872, 0.007], [3.843810337100855, 0.007], [4.227534261794041, 0.008], [4.693007816411313, 0.009], [4.8441988095189235, 0.01], [4.848804189688824, 0.01], [5.0412714151177145, 0.011], [5.2885750349107195, 0.011], [5.376250791136794, 0.012], [5.411191712613574, 0.012], [5.422125233680431, 0.012], [5.475114940625417, 0.012], [5.5668414169026885, 0.012], [5.646661145494775, 0.013], [5.798006375494866, 0.013], [5.813692553252137, 0.013], [5.936922042637777, 0.014], [5.993791757161114, 0.014], [6.006053221249445, 0.014], [6.145246368995009, 0.014], [6.209997238320851, 0.015], [6.228478777499486, 0.015], [6.312019105748664, 0.015], [6.390910579993122, 0.015], [6.416505939001933, 0.015], [6.473007502193919, 0.016], [6.474615425922975, 0.016], [6.5572157312498405, 0.016], [6.563069739912885, 0.016], [6.563873927743241, 0.016], [6.783747050701487, 0.017], [6.86095479062061, 0.017], [6.86467602645458, 0.017], [7.054307123591347, 0.018], [7.110279353505543, 0.018], [7.133556298926159, 0.018], [7.140600665769856, 0.018], [7.252341444986477, 0.019], [7.278045125738416, 0.019], [7.2977339710978555, 0.019], [7.326229797622952, 0.019], [7.377486516162332, 0.02], [7.447746768510511, 0.02], [7.564908864274971, 0.02], [7.638368937918756, 0.021], [7.695883342412662, 0.021], [7.704620966533577, 0.021], [7.713488636734679, 0.021], [7.795595925858853, 0.022], [7.836392009215098, 0.022], [7.841342634125933, 0.022], [7.893725875426142, 0.022], [7.906993891844602, 0.022], [7.920238058566856, 0.022], [7.948375154005703, 0.022], [8.007061670562694, 0.023], [8.027811874868336, 0.023], [8.02818968714538, 0.023], [8.067355985142221, 0.023], [8.095440587115023, 0.023], [8.122692351898515, 0.023], [8.139711573332722, 0.023], [8.202042704947713, 0.024], [8.207761158515014, 0.024], [8.362767847424779, 0.024], [8.41631622652464, 0.025], [8.475603344784597, 0.025], [8.500551772503748, 0.025], [8.595245662152376, 0.026], [8.610101160391544, 0.026], [8.651987601266187, 0.026], [8.679194214405689, 0.026], [8.726187824789807, 0.026], [8.765222584898622, 0.027], [8.846039802913207, 0.027], [8.877037371291031, 0.027], [8.915687830607899, 0.027], [8.958564401759206, 0.028], [8.973278607671896, 0.028], [8.989933875961219, 0.028], [9.01082547252167, 0.028], [9.028747508053817, 0.028], [9.038678447324115, 0.028], [9.056339756720996, 0.028], [9.079989079001546, 0.028], [9.080147102965624, 0.028], [9.123496790955784, 0.029], [9.158973884653758, 0.029], [9.182286883951996, 0.029], [9.229542632893999, 0.029], [9.30814032175001, 0.03], [9.349251816845733, 0.03], [9.388095225170842, 0.03], [9.431645715819624, 0.03], [9.520249624372934, 0.031], [9.55031040135514, 0.031], [9.552263997149424, 0.031], [9.67251598103179, 0.032], [9.672911403291705, 0.032], [9.741201102840584, 0.032], [9.750977555455439, 0.032], [9.756600888590924, 0.032], [9.767718126462412, 0.032], [9.773911117629083, 0.032], [9.829072639859081, 0.033], [9.82969081626976, 0.033], [9.875433823278366, 0.033], [9.911220511217351, 0.033], [9.953638971007042, 0.033], [9.954255453440561, 0.033], [10.020988183636398, 0.034], [10.036335462681368, 0.034], [10.056702695033964, 0.034], [10.116640086681695, 0.034], [10.138072226402892, 0.034], [10.14509777063474, 0.034], [10.196320103511244, 0.035], [10.231944467903539, 0.035], [10.254161616129286, 0.035], [10.265707016702457, 0.035], [10.297284396152232, 0.035], [10.371280462643783, 0.036], [10.411546749481449, 0.036], [10.420090473269752, 0.036], [10.446271358167653, 0.036], [10.54487468366969, 0.037], [10.567582703809054, 0.037], [10.590741174870733, 0.037], [10.649847144254144, 0.037], [10.660022576564161, 0.037], [10.66164189570852, 0.037], [10.68702267147589, 0.038], [10.700571381900591, 0.038], [10.724985356191297, 0.038], [10.767873367528106, 0.038], [10.780242161957322, 0.038], [10.802457756477708, 0.038], [10.866168546388963, 0.039], [10.875455293422753, 0.039], [10.88756678253984, 0.039], [10.918712894340487, 0.039], [10.929506196254376, 0.039], [11.009561729577204, 0.04], [11.027193536292032, 0.04], [11.063772029255965, 0.04], [11.117817484107423, 0.04], [11.153363751069321, 0.04], [11.153405797581108, 0.04], [11.215970229991752, 0.041], [11.263584219154655, 0.041], [11.278509904987141, 0.041], [11.314188840324762, 0.041], [11.320355170004797, 0.041], [11.321979420094838, 0.041], [11.357030213865066, 0.042], [11.406514328011697, 0.042], [11.407837550064205, 0.042], [11.41757989715559, 0.042], [11.433119584845517, 0.042], [11.480937064245104, 0.042], [11.484996223007016, 0.042], [11.518897995754081, 0.043], [11.526256113653023, 0.043], [11.556622391726386, 0.043], [11.590059833971026, 0.043], [11.608113439208196, 0.043], [11.614571311987604, 0.043], [11.65727402907546, 0.043], [11.72259205041352, 0.044], [11.764637755500473, 0.044], [11.766132238925325, 0.044], [11.789738717462944, 0.044], [11.829090622301791, 0.044], [11.837829550982939, 0.044], [11.853283481176291, 0.044], [11.867686313634929, 0.045], [11.880482199856393, 0.045], [11.893356278104932, 0.045], [11.895199760340114, 0.045], [11.89631980131946, 0.045], [11.919897428352868, 0.045], [11.928460150995939, 0.045], [11.930236907650425, 0.045], [11.938328232180679, 0.045], [11.94998807998228, 0.045], [11.956776687907968, 0.045], [11.986354338098565, 0.045], [12.00401608447432, 0.045], [12.032072979497336, 0.045], [12.071258249422215, 0.046], [12.08857960065015, 0.046], [12.089464964276427, 0.046], [12.135875138228423, 0.046], [12.1387759073158, 0.046], [12.152725855339032, 0.046], [12.166688983677071, 0.046], [12.168568286124739, 0.046], [12.18560677070368, 0.046], [12.233655139805418, 0.047], [12.269435554483703, 0.047], [12.279443046818702, 0.047], [12.308847847311643, 0.047], [12.324298006927835, 0.047], [12.364985554949254, 0.047], [12.380179687603245, 0.047], [12.403449698709258, 0.048], [12.435776926405524, 0.048], [12.44531277686903, 0.048], [12.502214755958306, 0.048], [12.554751982913114, 0.048], [12.56366889008438, 0.048], [12.56622843644589, 0.048], [12.589331047823368, 0.049], [12.631669627218475, 0.049], [12.6716596140439, 0.049], [12.73725657051417, 0.049], [12.744272098947341, 0.049], [12.757058845355072, 0.049], [12.784309455417844, 0.05], [12.790463248765395, 0.05], [12.794698157268442, 0.05], [12.817110762271524, 0.05], [12.823690410145204, 0.05], [12.835646896445938, 0.05], [12.86453199385895, 0.05], [12.938830841847786, 0.05], [12.955938509153343, 0.05], [12.961546731277847, 0.05], [13.032617351790869, 0.051], [13.041966797064777, 0.051], [13.051156015446352, 0.051], [13.075713169004565, 0.051], [13.190347612122725, 0.052], [13.224629672253696, 0.052], [13.227677571216956, 0.052], [13.268169950590744, 0.052], [13.270540396960456, 0.052], [13.285549755197291, 0.052], [13.30190020587917, 0.052], [13.305802515913792, 0.052], [13.331842988304338, 0.052], [13.335601813541539, 0.052], [13.339959917224945, 0.052], [13.34033758366614, 0.052], [13.34562433699585, 0.052], [13.348486395010637, 0.052], [13.425039784272874, 0.053], [13.434533376924337, 0.053], [13.45350454364124, 0.053], [13.52484555823952, 0.053], [13.561308972237988, 0.053], [13.568357213509127, 0.053], [13.577602267363165, 0.053], [13.606273024345345, 0.054], [13.62202442973302, 0.054], [13.623821229501777, 0.054], [13.637816879839297, 0.054], [13.640806453212992, 0.054], [13.709615313950216, 0.054], [13.72542408076183, 0.054], [13.768409576167116, 0.054], [13.777802086495711, 0.054], [13.782793264882134, 0.054], [13.82159408831168, 0.055], [13.831469655531334, 0.055], [13.833442417750456, 0.055], [13.835330753322562, 0.055], [13.870018881394376, 0.055], [13.879461106844026, 0.055], [13.888524231252005, 0.055], [13.893082646451921, 0.055], [13.927112118051367, 0.055], [13.93442548716957, 0.055], [13.943618533008213, 0.055], [13.944146624599288, 0.055], [13.981082331045286, 0.055], [14.019556150772921, 0.055], [14.040177579136087, 0.056], [14.043939322763102, 0.056], [14.061927607001225, 0.056], [14.085689299031985, 0.056], [14.131585207784775, 0.056], [14.136195040854858, 0.056], [14.160329815782408, 0.056], [14.166772145013574, 0.056], [14.202349250661813, 0.056], [14.205989091050819, 0.056], [14.232696779797642, 0.056], [14.234684113206157, 0.056], [14.26389814365833, 0.056], [14.274662757611393, 0.056], [14.30563701787823, 0.057], [14.309548799667528, 0.057], [14.322982724261443, 0.057], [14.399622538441923, 0.057], [14.430463253841403, 0.057], [14.436001954861803, 0.057], [14.441982356313826, 0.057], [14.44917924075415, 0.057], [14.464978391932597, 0.057], [14.477203815245385, 0.057], [14.481592736301712, 0.057], [14.493313169674236, 0.057], [14.494923912414343, 0.057], [14.503880742173704, 0.057], [14.521383327791, 0.057], [14.523173464937562, 0.057], [14.58089166079858, 0.058], [14.637499492737527, 0.058], [14.678540747584732, 0.058], [14.69453529651593, 0.058], [14.699961715419297, 0.058], [14.714619010488281, 0.058], [14.721693558585478, 0.058], [14.759732597084204, 0.058], [14.778479650334862, 0.058], [14.798876945964912, 0.058], [14.800620574805714, 0.058], [14.810510087536342, 0.058], [14.83982835771674, 0.058], [14.85424531091124, 0.059], [14.862024577519756, 0.059], [14.888730323821253, 0.059], [14.92228727796466, 0.059], [14.937933390526124, 0.059], [14.975475945163948, 0.059], [14.98730063823636, 0.059], [14.99503784416278, 0.059], [14.998932707750193, 0.059], [15.002235973708604, 0.059], [15.012065087720288, 0.059], [15.036823218132383, 0.059], [15.047097557417858, 0.059], [15.065179648160553, 0.059], [15.071370412051786, 0.059], [15.07825294534693, 0.059], [15.114007286374013, 0.059], [15.114568381843634, 0.059], [15.153257331859944, 0.059], [15.156545513760408, 0.059], [15.159437368647358, 0.059], [15.165642186928633, 0.059], [15.175795612814806, 0.06], [15.187156279278506, 0.06], [15.19008275737627, 0.06], [15.207884879907638, 0.06], [15.2097439776528, 0.06], [15.212228301866755, 0.06], [15.268914703781945, 0.06], [15.279909058757774, 0.06], [15.301701274278702, 0.06], [15.327141714043853, 0.06], [15.33052723461277, 0.06], [15.380523501546804, 0.06], [15.395053589871267, 0.06], [15.408420125612267, 0.06], [15.419909040173582, 0.06], [15.439813608264503, 0.06], [15.442279717726516, 0.06], [15.45931158232913, 0.06], [15.471771167960783, 0.06], [15.487881305643985, 0.06], [15.494525787325255, 0.06], [15.528509513135983, 0.06], [15.535498235552748, 0.06], [15.540554159858928, 0.06], [15.54113218928898, 0.06], [15.558989085308763, 0.06], [15.573400904626086, 0.061], [15.596223433961871, 0.061], [15.611124894491837, 0.061], [15.638827464682544, 0.061], [15.653744002276277, 0.061], [15.703348728175365, 0.061], [15.747028218494918, 0.061], [15.781809955364109, 0.061], [15.796290587715728, 0.061], [15.807839815751784, 0.061], [15.826385006363642, 0.061], [15.845698523500571, 0.061], [15.850983586267617, 0.061], [15.87332796263505, 0.061], [15.882438539314851, 0.061], [15.887365122312715, 0.061], [15.888310100283457, 0.061], [15.888333750780092, 0.061], [15.900468519493417, 0.061], [15.922816021924563, 0.061], [15.924216290095506, 0.061], [15.941288472185834, 0.061], [15.947744159299415, 0.061], [15.972812303359937, 0.061], [15.976907945526683, 0.061], [15.982455861681803, 0.061], [15.996548460775989, 0.061], [16.009307303124956, 0.061], [16.011906809853595, 0.061], [16.012513992254394, 0.061], [16.059257470731133, 0.061], [16.06647207438078, 0.061], [16.10864091082248, 0.062], [16.13991429624689, 0.062], [16.188544512362128, 0.062], [16.246902943892113, 0.062], [16.269650532284793, 0.062], [16.27025867818749, 0.062], [16.292311133494938, 0.062], [16.30038680011757, 0.062], [16.308813052373367, 0.062], [16.323282793858116, 0.062], [16.344230358175654, 0.062], [16.349330226692004, 0.062], [16.37082632595639, 0.062], [16.409495283567995, 0.062], [16.444055163511194, 0.062], [16.48349311806946, 0.062], [16.49813412542073, 0.062], [16.577092338486274, 0.062], [16.579279805681967, 0.062], [16.604048791552025, 0.062], [16.68418285988233, 0.062], [16.68714575426965, 0.062], [16.706010695895852, 0.062], [16.736114266495736, 0.062], [16.756939335575872, 0.062], [16.76051846338491, 0.062], [16.8037518027392, 0.062], [16.830765446221577, 0.062], [16.860266398571202, 0.062], [16.874009358017364, 0.062], [16.87455716913029, 0.062], [16.895565525290916, 0.062], [16.917564712524126, 0.062], [16.933478632984965, 0.062], [16.973020444005957, 0.062], [16.973571586679785, 0.062], [16.98030544043855, 0.062], [16.995636437934053, 0.062], [17.006693098983558, 0.062], [17.020898184654243, 0.062], [17.121721200797364, 0.062], [17.131639093660528, 0.062], [17.14843794877759, 0.062], [17.166829597485105, 0.062], [17.168388066040617, 0.062], [17.16903852827906, 0.062], [17.17883279658174, 0.062], [17.200632762362385, 0.062], [17.2076756948649, 0.062], [17.215002956884113, 0.062], [17.242899491457596, 0.062], [17.244164049410962, 0.062], [17.2464569159971, 0.062], [17.272938092051582, 0.062], [17.28033852838137, 0.062], [17.28371458999825, 0.062], [17.285037510319146, 0.062], [17.285784174186805, 0.062], [17.30742912082563, 0.062], [17.323987598765093, 0.062], [17.327731380288586, 0.062], [17.337467049829826, 0.062], [17.39217406262218, 0.062], [17.4005325883079, 0.062], [17.41952303067978, 0.062], [17.43779644430877, 0.062], [17.46211053927893, 0.062], [17.467625898494536, 0.062], [17.47907784623596, 0.062], [17.479793427099377, 0.062], [17.520405312227343, 0.062], [17.551920377848408, 0.062], [17.57417514762407, 0.062], [17.576479298248575, 0.062], [17.576507456707407, 0.062], [17.653147189690053, 0.062], [17.667243883955074, 0.062], [17.67081888394844, 0.062], [17.671926798884627, 0.062], [17.704569599847407, 0.062], [17.710233593846453, 0.062], [17.73610346585289, 0.062], [17.739917072118768, 0.062], [17.769903740612687, 0.062], [17.770729217302254, 0.062], [17.78596096128406, 0.062], [17.827773398626356, 0.062], [17.828437456592376, 0.062], [17.835618468734598, 0.062], [17.864548512137954, 0.062], [17.872934963477782, 0.062], [17.890342929940058, 0.062], [17.903805106752557, 0.062], [17.9199432451308, 0.062], [17.938639402410924, 0.062], [17.938851251630002, 0.062], [17.951414866526683, 0.062], [17.971496764315894, 0.062], [17.99001749127816, 0.062], [18.03798522344174, 0.062], [18.04783852710875, 0.062], [18.056094345253527, 0.062], [18.074820348091276, 0.062], [18.080495230445788, 0.062], [18.14032860790175, 0.062], [18.161055707738193, 0.061], [18.16926891636139, 0.061], [18.1702854371543, 0.061], [18.18335245387139, 0.061], [18.183397944597424, 0.061], [18.18385067051279, 0.061], [18.194766940393908, 0.061], [18.218858730972762, 0.061], [18.22669406576128, 0.061], [18.25253585441524, 0.061], [18.276959165736628, 0.061], [18.340639443494016, 0.061], [18.364384039013217, 0.061], [18.374979481086918, 0.061], [18.376387214430675, 0.061], [18.391642170465996, 0.061], [18.406570695816598, 0.061], [18.421570549794595, 0.061], [18.421998492519936, 0.061], [18.424220621426887, 0.061], [18.44775839673663, 0.061], [18.449317850140563, 0.061], [18.47917024543361, 0.061], [18.498636081195112, 0.061], [18.501155954859513, 0.061], [18.512295867283235, 0.061], [18.514003129797175, 0.061], [18.554336302482373, 0.061], [18.59232731294952, 0.061], [18.640982654446237, 0.061], [18.649753794503106, 0.061], [18.665812188623814, 0.061], [18.674382419402832, 0.061], [18.685923748357094, 0.06], [18.691821838999623, 0.06], [18.70269095716587, 0.06], [18.7064981285826, 0.06], [18.713621553280973, 0.06], [18.72068966626164, 0.06], [18.740968874627043, 0.06], [18.758185296841543, 0.06], [18.777353977642612, 0.06], [18.80483961038458, 0.06], [18.820518241034208, 0.06], [18.831457144679103, 0.06], [18.85062864414096, 0.06], [18.855214536489306, 0.06], [18.94681466362646, 0.06], [18.961004571126416, 0.06], [18.978498839568022, 0.06], [18.981505061297707, 0.06], [19.00842290199629, 0.06], [19.009599356217073, 0.06], [19.01781210913244, 0.06], [19.0241953272976, 0.06], [19.04047686643691, 0.06], [19.04050132675377, 0.06], [19.08273135396122, 0.059], [19.13748410617313, 0.059], [19.150835376097966, 0.059], [19.182185192625692, 0.059], [19.206922582358565, 0.059], [19.20853773984514, 0.059], [19.251688142878866, 0.059], [19.28629055107615, 0.059], [19.29741533340637, 0.059], [19.302325624965995, 0.059], [19.311270400754893, 0.059], [19.312277723040005, 0.059], [19.312713933525675, 0.059], [19.321113854235712, 0.059], [19.344335178514882, 0.059], [19.38768776274524, 0.059], [19.41086988530304, 0.058], [19.423443115028693, 0.058], [19.424975310058826, 0.058], [19.465805268936943, 0.058], [19.46884842799282, 0.058], [19.481612329669794, 0.058], [19.515758601931353, 0.058], [19.51669007560462, 0.058], [19.52972193557168, 0.058], [19.581707473686322, 0.058], [19.583629953081537, 0.058], [19.603234988013625, 0.058], [19.626910575892403, 0.058], [19.629212009999076, 0.058], [19.66256195590983, 0.058], [19.682228557744622, 0.058], [19.731812754181895, 0.057], [19.731842958692084, 0.057], [19.736675834281026, 0.057], [19.751079208058417, 0.057], [19.754384630056744, 0.057], [19.76882715464806, 0.057], [19.771642305478025, 0.057], [19.77452563479575, 0.057], [19.778067397748178, 0.057], [19.781140928165893, 0.057], [19.79112787813562, 0.057], [19.80249533212058, 0.057], [19.877161890965798, 0.057], [19.886431610143383, 0.057], [19.888683974814278, 0.057], [19.889132436102788, 0.057], [19.891424668660083, 0.057], [19.919274786553885, 0.057], [19.93889512812688, 0.057], [19.939573215932956, 0.057], [19.963930404225408, 0.056], [19.98392184901308, 0.056], [20.00961129138094, 0.056], [20.03369015227026, 0.056], [20.096746836066284, 0.056], [20.12392678354142, 0.056], [20.125563494434402, 0.056], [20.131417077262654, 0.056], [20.132530184871577, 0.056], [20.132804683914557, 0.056], [20.13414033646373, 0.056], [20.134771568204638, 0.056], [20.17983796921558, 0.056], [20.183711043978874, 0.056], [20.216280700439164, 0.055], [20.219050656081624, 0.055], [20.229845140892714, 0.055], [20.25142751950607, 0.055], [20.29873520250262, 0.055], [20.301591107030397, 0.055], [20.30522192046576, 0.055], [20.32332878175222, 0.055], [20.344924842226874, 0.055], [20.34902703241084, 0.055], [20.3661039194899, 0.055], [20.378833938809247, 0.055], [20.39744457173023, 0.055], [20.42127260075816, 0.055], [20.42349297224043, 0.055], [20.4327586614785, 0.055], [20.440305083481487, 0.054], [20.442089907097888, 0.054], [20.461332620547413, 0.054], [20.463367793459156, 0.054], [20.467827560893948, 0.054], [20.48967849532045, 0.054], [20.521589775152563, 0.054], [20.52793831284002, 0.054], [20.532936255394656, 0.054], [20.536040167674244, 0.054], [20.565377992568095, 0.054], [20.572173174495695, 0.054], [20.58514250638541, 0.054], [20.601376055535216, 0.054], [20.60530759977689, 0.054], [20.611136115187893, 0.054], [20.645832781417283, 0.054], [20.656386471792743, 0.053], [20.659876144009132, 0.053], [20.669452723780665, 0.053], [20.67441510229179, 0.053], [20.676547192629897, 0.053], [20.68881545439853, 0.053], [20.710786449440807, 0.053], [20.731696862655614, 0.053], [20.73311330246697, 0.053], [20.739186209889642, 0.053], [20.749104185235684, 0.053], [20.75743432856813, 0.053], [20.777222437851147, 0.053], [20.798727597335656, 0.053], [20.816914030816665, 0.053], [20.86401360286825, 0.053], [20.919392436847975, 0.052], [20.95739034107463, 0.052], [20.98334267062499, 0.052], [20.999520972723236, 0.052], [21.026422182315777, 0.052], [21.037231888936166, 0.052], [21.03854847716525, 0.052], [21.050289665684545, 0.052], [21.07280502043468, 0.051], [21.11519864581776, 0.051], [21.122479928522665, 0.051], [21.131137646329783, 0.051], [21.14906661295383, 0.051], [21.192262116390282, 0.051], [21.223946153988095, 0.051], [21.228544882187357, 0.051], [21.250965080812257, 0.051], [21.253973810616326, 0.051], [21.263226370447004, 0.051], [21.330980111652085, 0.05], [21.334551324705426, 0.05], [21.39664037127334, 0.05], [21.428982134756584, 0.05], [21.442864167787715, 0.05], [21.457686449448573, 0.05], [21.505994538476088, 0.049], [21.531577226687958, 0.049], [21.543332531844698, 0.049], [21.55056226135778, 0.049], [21.555143908462526, 0.049], [21.555945075742773, 0.049], [21.55804736374201, 0.049], [21.62277824918892, 0.049], [21.66769440012016, 0.048], [21.678288440082685, 0.048], [21.702750438103422, 0.048], [21.706294270696052, 0.048], [21.711151564642392, 0.048], [21.724782439135424, 0.048], [21.726669246533366, 0.048], [21.737740027138106, 0.048], [21.738352703545665, 0.048], [21.857746894903563, 0.047], [21.859952159912872, 0.047], [21.870539801074372, 0.047], [21.888265541170686, 0.047], [21.90802332204704, 0.047], [21.922824024247024, 0.047], [21.933161094627494, 0.047], [21.955350286095413, 0.047], [21.97171464804527, 0.047], [22.005505078994386, 0.047], [22.006998862974438, 0.047], [22.02438490027711, 0.046], [22.038828028850062, 0.046], [22.0554011299729, 0.046], [22.06572480729534, 0.046], [22.07645901038896, 0.046], [22.07713903330663, 0.046], [22.09676984838464, 0.046], [22.097869287338668, 0.046], [22.125054992553252, 0.046], [22.138825843586886, 0.046], [22.17433272396681, 0.046], [22.175082130829516, 0.046], [22.197622402570293, 0.045], [22.252507829880567, 0.045], [22.309948462526844, 0.045], [22.341259063452846, 0.045], [22.369796261529935, 0.045], [22.37239587562936, 0.045], [22.401748353035337, 0.044], [22.40539174028035, 0.044], [22.407490035709117, 0.044], [22.41765998387637, 0.044], [22.4241401923327, 0.044], [22.50721039325777, 0.044], [22.508135880126634, 0.044], [22.546993379823327, 0.044], [22.588611437318008, 0.043], [22.590199860086763, 0.043], [22.592403071324508, 0.043], [22.59502278433439, 0.043], [22.596152376375052, 0.043], [22.653140176298677, 0.043], [22.722505139649165, 0.042], [22.73277885752406, 0.042], [22.746432419448734, 0.042], [22.82401870791412, 0.042], [22.82782374129993, 0.042], [22.836453616627058, 0.042], [22.838517917623307, 0.042], [22.84563211491249, 0.042], [22.879513668418685, 0.042], [22.88971671614421, 0.042], [22.896391953128635, 0.041], [22.913182960932087, 0.041], [22.93448057530143, 0.041], [22.94888444168102, 0.041], [22.95303422463846, 0.041], [22.963311861381325, 0.041], [22.974103305645258, 0.041], [22.974468151599083, 0.041], [23.040856531553036, 0.041], [23.04391586895452, 0.041], [23.063543323861943, 0.04], [23.068002961709603, 0.04], [23.073688155613645, 0.04], [23.110612270913673, 0.04], [23.125945149042984, 0.04], [23.143470202546034, 0.04], [23.151766894372766, 0.04], [23.155571961289738, 0.04], [23.16984936885698, 0.04], [23.21501808306669, 0.04], [23.21591560780389, 0.04], [23.223075920043314, 0.04], [23.231494413535685, 0.04], [23.248155436156843, 0.039], [23.254838614902866, 0.039], [23.281468020259688, 0.039], [23.36158883505497, 0.039], [23.39653842681435, 0.039], [23.406128630103765, 0.038], [23.44055119141914, 0.038], [23.482859111639073, 0.038], [23.535818579353453, 0.038], [23.623492727689683, 0.037], [23.675233316011372, 0.037], [23.678457948369672, 0.037], [23.70444694427249, 0.037], [23.708991460313097, 0.037], [23.825624229053506, 0.036], [23.843473929720425, 0.036], [23.857875317934838, 0.036], [23.942699870905038, 0.035], [23.98114909067875, 0.035], [23.982135488939175, 0.035], [23.986253243556575, 0.035], [23.987050028260974, 0.035], [23.99838320190311, 0.035], [24.016505613640113, 0.035], [24.033355803690064, 0.035], [24.04073335067669, 0.035], [24.05354806413436, 0.035], [24.135009307470796, 0.034], [24.140452916833528, 0.034], [24.219974290009777, 0.034], [24.269216109637313, 0.033], [24.35474440507751, 0.033], [24.355994204203824, 0.033], [24.367049575924035, 0.033], [24.37848882368539, 0.033], [24.419916777929906, 0.033], [24.426676908872793, 0.032], [24.43976940223432, 0.032], [24.45536520185042, 0.032], [24.45704787213471, 0.032], [24.464206987716107, 0.032], [24.466496697618965, 0.032], [24.478804789893196, 0.032], [24.520285188250444, 0.032], [24.528783397018085, 0.032], [24.53321004944333, 0.032], [24.55295177767316, 0.032], [24.56660539757249, 0.032], [24.692943364892947, 0.031], [24.7301952158343, 0.031], [24.762571757698833, 0.031], [24.820207913216557, 0.03], [24.821612055372746, 0.03], [24.829184017540314, 0.03], [24.84398244909421, 0.03], [24.877477800414432, 0.03], [24.886396302004766, 0.03], [24.921289527989725, 0.03], [24.941858660679436, 0.03], [24.983921544186387, 0.029], [25.015196059082047, 0.029], [25.035537229418292, 0.029], [25.045408469333726, 0.029], [25.060422114398698, 0.029], [25.12903029036303, 0.028], [25.129467846337853, 0.028], [25.160288629209912, 0.028], [25.18207813550878, 0.028], [25.216675695853446, 0.028], [25.24931956103159, 0.028], [25.291954315338327, 0.028], [25.303646297380052, 0.028], [25.321048554925554, 0.027], [25.38729807453678, 0.027], [25.4228599716769, 0.027], [25.422903469713095, 0.027], [25.450547044042814, 0.027], [25.455541823252084, 0.027], [25.5204956884674, 0.026], [25.53115842111594, 0.026], [25.585570035308905, 0.026], [25.587767017126392, 0.026], [25.614916310713944, 0.026], [25.654110303472287, 0.026], [25.673122058589033, 0.026], [25.70084153350544, 0.025], [25.736900308688575, 0.025], [25.801517699854543, 0.025], [25.921515261614346, 0.024], [25.961061232529843, 0.024], [25.968412239047364, 0.024], [25.99295252078092, 0.024], [26.004547712736, 0.024], [26.015427656930058, 0.024], [26.030470699875593, 0.024], [26.055168082328972, 0.024], [26.191867830679197, 0.023], [26.210998482288026, 0.023], [26.319243224826383, 0.022], [26.327538572653978, 0.022], [26.34381177320531, 0.022], [26.40203458025103, 0.022], [26.4221216997899, 0.022], [26.433021751599334, 0.022], [26.448081870683446, 0.022], [26.47332913832502, 0.021], [26.47716103480592, 0.021], [26.48999976529513, 0.021], [26.617000881957217, 0.021], [26.62930234530455, 0.021], [26.764767958857366, 0.02], [26.833941066771594, 0.02], [26.908376617577858, 0.019], [26.91864927184797, 0.019], [26.973507469947084, 0.019], [27.055462490508887, 0.019], [27.12005835023395, 0.018], [27.243650879020834, 0.018], [27.29493918328838, 0.018], [27.304165484260388, 0.018], [27.306316425480908, 0.018], [27.310510189939805, 0.018], [27.336791796284665, 0.017], [27.348574875876714, 0.017], [27.419063999155597, 0.017], [27.419164352159605, 0.017], [27.550480694998605, 0.017], [27.608368316926672, 0.016], [27.635317639541146, 0.016], [27.703355188918394, 0.016], [27.724988227947232, 0.016], [27.769102726273474, 0.016], [27.85289614967126, 0.015], [27.918079814242404, 0.015], [27.92982851635673, 0.015], [27.95678425556674, 0.015], [28.021571069385555, 0.015], [28.030440310838976, 0.015], [28.087973209310675, 0.014], [28.174093652282153, 0.014], [28.180129518963668, 0.014], [28.201969548431734, 0.014], [28.2407237895809, 0.014], [28.313748318421293, 0.014], [28.44625653075051, 0.013], [28.447230741793227, 0.013], [28.458577296059623, 0.013], [28.47954655711962, 0.013], [28.51327060703971, 0.013], [28.63143694176751, 0.012], [28.67439262707314, 0.012], [28.81027633167507, 0.012], [28.90814480919752, 0.011], [29.090676022597417, 0.011], [29.134324693085944, 0.011], [29.140943304700812, 0.011], [29.245705901951837, 0.01], [29.79165715545531, 0.009], [29.91696023972824, 0.008], [29.971470950220883, 0.008], [30.058728773765132, 0.008], [30.29760658129031, 0.007], [30.34474078809255, 0.007], [30.459716608753027, 0.007], [30.658953364845363, 0.007], [30.774635932671703, 0.006], [31.0231053537086, 0.006], [31.33289535021413, 0.005], [31.544167411743693, 0.005], [31.553253035785467, 0.005], [31.59323970915894, 0.005], [31.679648622967417, 0.005], [31.76360980545823, 0.005], [31.831305533158414, 0.004], [32.34945246806191, 0.004], [32.89935216326308, 0.003], [33.23367353117821, 0.003], [33.63136088856473, 0.002], [34.523946084520034, 0.002], [35.15045437428216, 0.001], [35.480142272410816, 0.001], [35.87063889553032, 0.001]]',\n",
       " 'DISTRIBUTION_NAME': 'norm',\n",
       " 'LOW_SCORE': 10.484,\n",
       " 'HIGH_SCORE': 23.754,\n",
       " 'OUTSIDE_PROJECTION': 21.177845808,\n",
       " 'SIMULATION_PROJECTION': 17.119}"
      ]
     },
     "execution_count": 25,
     "metadata": {},
     "output_type": "execute_result"
    }
   ],
   "source": [
    "rec"
   ]
  },
  {
   "cell_type": "code",
   "execution_count": 27,
   "metadata": {},
   "outputs": [
    {
     "data": {
      "text/plain": [
       "[[-2.8158699631825534, 0.0],\n",
       " [-1.16107137145492, 0.001],\n",
       " [-1.0242811512209613, 0.001]]"
      ]
     },
     "execution_count": 27,
     "metadata": {},
     "output_type": "execute_result"
    }
   ],
   "source": [
    "json.loads(rec['SCORE_DISTRIBUTION'])[:3]"
   ]
  },
  {
   "cell_type": "markdown",
   "metadata": {},
   "source": [
    "ideas for what to do with the distributions:\n",
    "- copy model calibration analysis: http://ben-tanen.com/projects/2020/01/08/ibm-watson-ff.html\n",
    "- compute the percentile of each of the estimates according to the distributions and see if it follows a normal distribution\n",
    "  - compute into buckets of n=2,5,10, and 100 and plot as a histogram\n",
    "  - do a permutation test against samples from a normal distributions (0, 100) to see if the percentiles come from a uniform distribuion in a way that is statistically significant"
   ]
  }
 ],
 "metadata": {
  "kernelspec": {
   "display_name": "Python 3",
   "language": "python",
   "name": "python3"
  },
  "language_info": {
   "codemirror_mode": {
    "name": "ipython",
    "version": 3
   },
   "file_extension": ".py",
   "mimetype": "text/x-python",
   "name": "python",
   "nbconvert_exporter": "python",
   "pygments_lexer": "ipython3",
   "version": "3.7.5"
  }
 },
 "nbformat": 4,
 "nbformat_minor": 4
}
